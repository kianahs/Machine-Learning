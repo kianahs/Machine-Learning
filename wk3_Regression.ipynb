{
  "cells": [
    {
      "cell_type": "markdown",
      "metadata": {
        "id": "view-in-github",
        "colab_type": "text"
      },
      "source": [
        "<a href=\"https://colab.research.google.com/github/kianahs/Machine-Learning/blob/main/wk3_Regression.ipynb\" target=\"_parent\"><img src=\"https://colab.research.google.com/assets/colab-badge.svg\" alt=\"Open In Colab\"/></a>"
      ]
    },
    {
      "cell_type": "markdown",
      "metadata": {
        "id": "8NRMjCyyZdMy"
      },
      "source": [
        "## 0. Introduction\n",
        "\n",
        "The aim of this lab is to get familiar with **regression problems**, the concepts of **under/over-fitting**, and **regularization**.\n",
        "\n",
        "\n",
        "1.   This lab is the first course-work activity **Assignment 1 part 1: Regression (10%)**\n",
        "2. The Assignment is due on **Friday, 27th October, 11:59pm**\n",
        "2.   A report answering the <font color = 'red'>**questions in</font><font color = \"maroon\"> red**</font> should be submitted on QMplus along with the completed Notebook.\n",
        "3. The report should be a separate file in **pdf format** (so **NOT** *doc, docx, notebook* etc.), well identified with your name, student number, assignment number (for instance, Assignment 1), module code.\n",
        "4. Make sure that **any figures or code** you comment on, are **included in the report**.\n",
        "5. No other means of submission other than the appropriate QM+ link is acceptable at any time (so NO email attachments, etc.)\n",
        "6. **PLAGIARISM** <ins>is an irreversible non-negotiable failure in the course</ins> (if in doubt of what constitutes plagiarism, ask!).\n",
        "\n",
        "\n",
        "For this lab we will use the [diabetes](https://www4.stat.ncsu.edu/~boos/var.select/diabetes.html) dataset."
      ]
    },
    {
      "cell_type": "code",
      "execution_count": 237,
      "metadata": {
        "id": "lkLnfbLLwxxS"
      },
      "outputs": [],
      "source": [
        "import torch\n",
        "from torch import nn\n",
        "from sklearn import model_selection\n",
        "import pandas as pd\n",
        "import matplotlib.pyplot as plt\n",
        "import seaborn as sn\n",
        "from IPython import display\n",
        "\n",
        "import typing\n",
        "%matplotlib inline"
      ]
    },
    {
      "cell_type": "code",
      "execution_count": 238,
      "metadata": {
        "id": "LJJVj3d3b43I"
      },
      "outputs": [],
      "source": [
        "diabetes_db = pd.read_csv('https://www4.stat.ncsu.edu/~boos/var.select/diabetes.tab.txt', sep='\\t', header=0)\n",
        "# sn.pairplot(diabetes_db)"
      ]
    },
    {
      "cell_type": "code",
      "execution_count": 239,
      "metadata": {
        "id": "imFNxOVrf36P",
        "colab": {
          "base_uri": "https://localhost:8080/",
          "height": 363
        },
        "outputId": "fa363d89-366d-490b-83b8-bd9ba416be38"
      },
      "outputs": [
        {
          "output_type": "execute_result",
          "data": {
            "text/plain": [
              "   AGE  SEX   BMI     BP   S1     S2    S3    S4      S5  S6    Y\n",
              "0   59    2  32.1  101.0  157   93.2  38.0  4.00  4.8598  87  151\n",
              "1   48    1  21.6   87.0  183  103.2  70.0  3.00  3.8918  69   75\n",
              "2   72    2  30.5   93.0  156   93.6  41.0  4.00  4.6728  85  141\n",
              "3   24    1  25.3   84.0  198  131.4  40.0  5.00  4.8903  89  206\n",
              "4   50    1  23.0  101.0  192  125.4  52.0  4.00  4.2905  80  135\n",
              "5   23    1  22.6   89.0  139   64.8  61.0  2.00  4.1897  68   97\n",
              "6   36    2  22.0   90.0  160   99.6  50.0  3.00  3.9512  82  138\n",
              "7   66    2  26.2  114.0  255  185.0  56.0  4.55  4.2485  92   63\n",
              "8   60    2  32.1   83.0  179  119.4  42.0  4.00  4.4773  94  110\n",
              "9   29    1  30.0   85.0  180   93.4  43.0  4.00  5.3845  88  310"
            ],
            "text/html": [
              "\n",
              "  <div id=\"df-1c0addf7-56fd-4c92-b0d9-ce34c82a7741\" class=\"colab-df-container\">\n",
              "    <div>\n",
              "<style scoped>\n",
              "    .dataframe tbody tr th:only-of-type {\n",
              "        vertical-align: middle;\n",
              "    }\n",
              "\n",
              "    .dataframe tbody tr th {\n",
              "        vertical-align: top;\n",
              "    }\n",
              "\n",
              "    .dataframe thead th {\n",
              "        text-align: right;\n",
              "    }\n",
              "</style>\n",
              "<table border=\"1\" class=\"dataframe\">\n",
              "  <thead>\n",
              "    <tr style=\"text-align: right;\">\n",
              "      <th></th>\n",
              "      <th>AGE</th>\n",
              "      <th>SEX</th>\n",
              "      <th>BMI</th>\n",
              "      <th>BP</th>\n",
              "      <th>S1</th>\n",
              "      <th>S2</th>\n",
              "      <th>S3</th>\n",
              "      <th>S4</th>\n",
              "      <th>S5</th>\n",
              "      <th>S6</th>\n",
              "      <th>Y</th>\n",
              "    </tr>\n",
              "  </thead>\n",
              "  <tbody>\n",
              "    <tr>\n",
              "      <th>0</th>\n",
              "      <td>59</td>\n",
              "      <td>2</td>\n",
              "      <td>32.1</td>\n",
              "      <td>101.0</td>\n",
              "      <td>157</td>\n",
              "      <td>93.2</td>\n",
              "      <td>38.0</td>\n",
              "      <td>4.00</td>\n",
              "      <td>4.8598</td>\n",
              "      <td>87</td>\n",
              "      <td>151</td>\n",
              "    </tr>\n",
              "    <tr>\n",
              "      <th>1</th>\n",
              "      <td>48</td>\n",
              "      <td>1</td>\n",
              "      <td>21.6</td>\n",
              "      <td>87.0</td>\n",
              "      <td>183</td>\n",
              "      <td>103.2</td>\n",
              "      <td>70.0</td>\n",
              "      <td>3.00</td>\n",
              "      <td>3.8918</td>\n",
              "      <td>69</td>\n",
              "      <td>75</td>\n",
              "    </tr>\n",
              "    <tr>\n",
              "      <th>2</th>\n",
              "      <td>72</td>\n",
              "      <td>2</td>\n",
              "      <td>30.5</td>\n",
              "      <td>93.0</td>\n",
              "      <td>156</td>\n",
              "      <td>93.6</td>\n",
              "      <td>41.0</td>\n",
              "      <td>4.00</td>\n",
              "      <td>4.6728</td>\n",
              "      <td>85</td>\n",
              "      <td>141</td>\n",
              "    </tr>\n",
              "    <tr>\n",
              "      <th>3</th>\n",
              "      <td>24</td>\n",
              "      <td>1</td>\n",
              "      <td>25.3</td>\n",
              "      <td>84.0</td>\n",
              "      <td>198</td>\n",
              "      <td>131.4</td>\n",
              "      <td>40.0</td>\n",
              "      <td>5.00</td>\n",
              "      <td>4.8903</td>\n",
              "      <td>89</td>\n",
              "      <td>206</td>\n",
              "    </tr>\n",
              "    <tr>\n",
              "      <th>4</th>\n",
              "      <td>50</td>\n",
              "      <td>1</td>\n",
              "      <td>23.0</td>\n",
              "      <td>101.0</td>\n",
              "      <td>192</td>\n",
              "      <td>125.4</td>\n",
              "      <td>52.0</td>\n",
              "      <td>4.00</td>\n",
              "      <td>4.2905</td>\n",
              "      <td>80</td>\n",
              "      <td>135</td>\n",
              "    </tr>\n",
              "    <tr>\n",
              "      <th>5</th>\n",
              "      <td>23</td>\n",
              "      <td>1</td>\n",
              "      <td>22.6</td>\n",
              "      <td>89.0</td>\n",
              "      <td>139</td>\n",
              "      <td>64.8</td>\n",
              "      <td>61.0</td>\n",
              "      <td>2.00</td>\n",
              "      <td>4.1897</td>\n",
              "      <td>68</td>\n",
              "      <td>97</td>\n",
              "    </tr>\n",
              "    <tr>\n",
              "      <th>6</th>\n",
              "      <td>36</td>\n",
              "      <td>2</td>\n",
              "      <td>22.0</td>\n",
              "      <td>90.0</td>\n",
              "      <td>160</td>\n",
              "      <td>99.6</td>\n",
              "      <td>50.0</td>\n",
              "      <td>3.00</td>\n",
              "      <td>3.9512</td>\n",
              "      <td>82</td>\n",
              "      <td>138</td>\n",
              "    </tr>\n",
              "    <tr>\n",
              "      <th>7</th>\n",
              "      <td>66</td>\n",
              "      <td>2</td>\n",
              "      <td>26.2</td>\n",
              "      <td>114.0</td>\n",
              "      <td>255</td>\n",
              "      <td>185.0</td>\n",
              "      <td>56.0</td>\n",
              "      <td>4.55</td>\n",
              "      <td>4.2485</td>\n",
              "      <td>92</td>\n",
              "      <td>63</td>\n",
              "    </tr>\n",
              "    <tr>\n",
              "      <th>8</th>\n",
              "      <td>60</td>\n",
              "      <td>2</td>\n",
              "      <td>32.1</td>\n",
              "      <td>83.0</td>\n",
              "      <td>179</td>\n",
              "      <td>119.4</td>\n",
              "      <td>42.0</td>\n",
              "      <td>4.00</td>\n",
              "      <td>4.4773</td>\n",
              "      <td>94</td>\n",
              "      <td>110</td>\n",
              "    </tr>\n",
              "    <tr>\n",
              "      <th>9</th>\n",
              "      <td>29</td>\n",
              "      <td>1</td>\n",
              "      <td>30.0</td>\n",
              "      <td>85.0</td>\n",
              "      <td>180</td>\n",
              "      <td>93.4</td>\n",
              "      <td>43.0</td>\n",
              "      <td>4.00</td>\n",
              "      <td>5.3845</td>\n",
              "      <td>88</td>\n",
              "      <td>310</td>\n",
              "    </tr>\n",
              "  </tbody>\n",
              "</table>\n",
              "</div>\n",
              "    <div class=\"colab-df-buttons\">\n",
              "\n",
              "  <div class=\"colab-df-container\">\n",
              "    <button class=\"colab-df-convert\" onclick=\"convertToInteractive('df-1c0addf7-56fd-4c92-b0d9-ce34c82a7741')\"\n",
              "            title=\"Convert this dataframe to an interactive table.\"\n",
              "            style=\"display:none;\">\n",
              "\n",
              "  <svg xmlns=\"http://www.w3.org/2000/svg\" height=\"24px\" viewBox=\"0 -960 960 960\">\n",
              "    <path d=\"M120-120v-720h720v720H120Zm60-500h600v-160H180v160Zm220 220h160v-160H400v160Zm0 220h160v-160H400v160ZM180-400h160v-160H180v160Zm440 0h160v-160H620v160ZM180-180h160v-160H180v160Zm440 0h160v-160H620v160Z\"/>\n",
              "  </svg>\n",
              "    </button>\n",
              "\n",
              "  <style>\n",
              "    .colab-df-container {\n",
              "      display:flex;\n",
              "      gap: 12px;\n",
              "    }\n",
              "\n",
              "    .colab-df-convert {\n",
              "      background-color: #E8F0FE;\n",
              "      border: none;\n",
              "      border-radius: 50%;\n",
              "      cursor: pointer;\n",
              "      display: none;\n",
              "      fill: #1967D2;\n",
              "      height: 32px;\n",
              "      padding: 0 0 0 0;\n",
              "      width: 32px;\n",
              "    }\n",
              "\n",
              "    .colab-df-convert:hover {\n",
              "      background-color: #E2EBFA;\n",
              "      box-shadow: 0px 1px 2px rgba(60, 64, 67, 0.3), 0px 1px 3px 1px rgba(60, 64, 67, 0.15);\n",
              "      fill: #174EA6;\n",
              "    }\n",
              "\n",
              "    .colab-df-buttons div {\n",
              "      margin-bottom: 4px;\n",
              "    }\n",
              "\n",
              "    [theme=dark] .colab-df-convert {\n",
              "      background-color: #3B4455;\n",
              "      fill: #D2E3FC;\n",
              "    }\n",
              "\n",
              "    [theme=dark] .colab-df-convert:hover {\n",
              "      background-color: #434B5C;\n",
              "      box-shadow: 0px 1px 3px 1px rgba(0, 0, 0, 0.15);\n",
              "      filter: drop-shadow(0px 1px 2px rgba(0, 0, 0, 0.3));\n",
              "      fill: #FFFFFF;\n",
              "    }\n",
              "  </style>\n",
              "\n",
              "    <script>\n",
              "      const buttonEl =\n",
              "        document.querySelector('#df-1c0addf7-56fd-4c92-b0d9-ce34c82a7741 button.colab-df-convert');\n",
              "      buttonEl.style.display =\n",
              "        google.colab.kernel.accessAllowed ? 'block' : 'none';\n",
              "\n",
              "      async function convertToInteractive(key) {\n",
              "        const element = document.querySelector('#df-1c0addf7-56fd-4c92-b0d9-ce34c82a7741');\n",
              "        const dataTable =\n",
              "          await google.colab.kernel.invokeFunction('convertToInteractive',\n",
              "                                                    [key], {});\n",
              "        if (!dataTable) return;\n",
              "\n",
              "        const docLinkHtml = 'Like what you see? Visit the ' +\n",
              "          '<a target=\"_blank\" href=https://colab.research.google.com/notebooks/data_table.ipynb>data table notebook</a>'\n",
              "          + ' to learn more about interactive tables.';\n",
              "        element.innerHTML = '';\n",
              "        dataTable['output_type'] = 'display_data';\n",
              "        await google.colab.output.renderOutput(dataTable, element);\n",
              "        const docLink = document.createElement('div');\n",
              "        docLink.innerHTML = docLinkHtml;\n",
              "        element.appendChild(docLink);\n",
              "      }\n",
              "    </script>\n",
              "  </div>\n",
              "\n",
              "\n",
              "<div id=\"df-c058e917-64f9-4cc1-9696-e9e69c5089ba\">\n",
              "  <button class=\"colab-df-quickchart\" onclick=\"quickchart('df-c058e917-64f9-4cc1-9696-e9e69c5089ba')\"\n",
              "            title=\"Suggest charts.\"\n",
              "            style=\"display:none;\">\n",
              "\n",
              "<svg xmlns=\"http://www.w3.org/2000/svg\" height=\"24px\"viewBox=\"0 0 24 24\"\n",
              "     width=\"24px\">\n",
              "    <g>\n",
              "        <path d=\"M19 3H5c-1.1 0-2 .9-2 2v14c0 1.1.9 2 2 2h14c1.1 0 2-.9 2-2V5c0-1.1-.9-2-2-2zM9 17H7v-7h2v7zm4 0h-2V7h2v10zm4 0h-2v-4h2v4z\"/>\n",
              "    </g>\n",
              "</svg>\n",
              "  </button>\n",
              "\n",
              "<style>\n",
              "  .colab-df-quickchart {\n",
              "      --bg-color: #E8F0FE;\n",
              "      --fill-color: #1967D2;\n",
              "      --hover-bg-color: #E2EBFA;\n",
              "      --hover-fill-color: #174EA6;\n",
              "      --disabled-fill-color: #AAA;\n",
              "      --disabled-bg-color: #DDD;\n",
              "  }\n",
              "\n",
              "  [theme=dark] .colab-df-quickchart {\n",
              "      --bg-color: #3B4455;\n",
              "      --fill-color: #D2E3FC;\n",
              "      --hover-bg-color: #434B5C;\n",
              "      --hover-fill-color: #FFFFFF;\n",
              "      --disabled-bg-color: #3B4455;\n",
              "      --disabled-fill-color: #666;\n",
              "  }\n",
              "\n",
              "  .colab-df-quickchart {\n",
              "    background-color: var(--bg-color);\n",
              "    border: none;\n",
              "    border-radius: 50%;\n",
              "    cursor: pointer;\n",
              "    display: none;\n",
              "    fill: var(--fill-color);\n",
              "    height: 32px;\n",
              "    padding: 0;\n",
              "    width: 32px;\n",
              "  }\n",
              "\n",
              "  .colab-df-quickchart:hover {\n",
              "    background-color: var(--hover-bg-color);\n",
              "    box-shadow: 0 1px 2px rgba(60, 64, 67, 0.3), 0 1px 3px 1px rgba(60, 64, 67, 0.15);\n",
              "    fill: var(--button-hover-fill-color);\n",
              "  }\n",
              "\n",
              "  .colab-df-quickchart-complete:disabled,\n",
              "  .colab-df-quickchart-complete:disabled:hover {\n",
              "    background-color: var(--disabled-bg-color);\n",
              "    fill: var(--disabled-fill-color);\n",
              "    box-shadow: none;\n",
              "  }\n",
              "\n",
              "  .colab-df-spinner {\n",
              "    border: 2px solid var(--fill-color);\n",
              "    border-color: transparent;\n",
              "    border-bottom-color: var(--fill-color);\n",
              "    animation:\n",
              "      spin 1s steps(1) infinite;\n",
              "  }\n",
              "\n",
              "  @keyframes spin {\n",
              "    0% {\n",
              "      border-color: transparent;\n",
              "      border-bottom-color: var(--fill-color);\n",
              "      border-left-color: var(--fill-color);\n",
              "    }\n",
              "    20% {\n",
              "      border-color: transparent;\n",
              "      border-left-color: var(--fill-color);\n",
              "      border-top-color: var(--fill-color);\n",
              "    }\n",
              "    30% {\n",
              "      border-color: transparent;\n",
              "      border-left-color: var(--fill-color);\n",
              "      border-top-color: var(--fill-color);\n",
              "      border-right-color: var(--fill-color);\n",
              "    }\n",
              "    40% {\n",
              "      border-color: transparent;\n",
              "      border-right-color: var(--fill-color);\n",
              "      border-top-color: var(--fill-color);\n",
              "    }\n",
              "    60% {\n",
              "      border-color: transparent;\n",
              "      border-right-color: var(--fill-color);\n",
              "    }\n",
              "    80% {\n",
              "      border-color: transparent;\n",
              "      border-right-color: var(--fill-color);\n",
              "      border-bottom-color: var(--fill-color);\n",
              "    }\n",
              "    90% {\n",
              "      border-color: transparent;\n",
              "      border-bottom-color: var(--fill-color);\n",
              "    }\n",
              "  }\n",
              "</style>\n",
              "\n",
              "  <script>\n",
              "    async function quickchart(key) {\n",
              "      const quickchartButtonEl =\n",
              "        document.querySelector('#' + key + ' button');\n",
              "      quickchartButtonEl.disabled = true;  // To prevent multiple clicks.\n",
              "      quickchartButtonEl.classList.add('colab-df-spinner');\n",
              "      try {\n",
              "        const charts = await google.colab.kernel.invokeFunction(\n",
              "            'suggestCharts', [key], {});\n",
              "      } catch (error) {\n",
              "        console.error('Error during call to suggestCharts:', error);\n",
              "      }\n",
              "      quickchartButtonEl.classList.remove('colab-df-spinner');\n",
              "      quickchartButtonEl.classList.add('colab-df-quickchart-complete');\n",
              "    }\n",
              "    (() => {\n",
              "      let quickchartButtonEl =\n",
              "        document.querySelector('#df-c058e917-64f9-4cc1-9696-e9e69c5089ba button');\n",
              "      quickchartButtonEl.style.display =\n",
              "        google.colab.kernel.accessAllowed ? 'block' : 'none';\n",
              "    })();\n",
              "  </script>\n",
              "</div>\n",
              "    </div>\n",
              "  </div>\n"
            ]
          },
          "metadata": {},
          "execution_count": 239
        }
      ],
      "source": [
        "diabetes_db.head(10)"
      ]
    },
    {
      "cell_type": "markdown",
      "metadata": {
        "id": "LGjbgZxNdrLH"
      },
      "source": [
        "We first split the data into test and training sets. For consistency and to allow for meaningful comparison the same splits are maintained in the remainder of the lab."
      ]
    },
    {
      "cell_type": "code",
      "execution_count": 240,
      "metadata": {
        "id": "Lad3ihXjd-Ev"
      },
      "outputs": [],
      "source": [
        "X_train, X_test, y_train, y_test = model_selection.train_test_split(\n",
        "    diabetes_db.loc[:, diabetes_db.columns != 'Y'],\n",
        "    diabetes_db['Y'],\n",
        "    test_size=0.2,\n",
        "    random_state=42\n",
        "    )\n",
        "x_train = torch.from_numpy(X_train.values).float()\n",
        "x_test = torch.from_numpy(X_test.values).float()\n",
        "\n",
        "y_train = torch.from_numpy(y_train.values).float()\n",
        "y_train = y_train.reshape(-1, 1)\n",
        "\n",
        "y_test = torch.from_numpy(y_test.values).float()\n",
        "y_test = y_test.reshape(-1, 1)\n"
      ]
    },
    {
      "cell_type": "markdown",
      "metadata": {
        "id": "hLLITe4POndx"
      },
      "source": [
        "We can see that all the independent variables are on different scales. This can affect gradient descent, we therefore need to normalize all features to zero mean, and unit standard deviation. The normalized value $z_i$ of $x_i$ is obtained through $z_i = \\frac{x_i - μ}{σ}$ where $μ$ is the mean and $σ$ is the standard deviation of $X$ and $x_i, μ, σ ∈ \\mathbb{R}^D$.\n",
        "\n",
        "**Q1.** Complete the method and normalize `x_train, x_test` [2 marks]"
      ]
    },
    {
      "cell_type": "code",
      "execution_count": 241,
      "metadata": {
        "id": "z3E-8C1USNFP"
      },
      "outputs": [],
      "source": [
        "def norm_set(x: torch.Tensor, mu: torch.Tensor, sigma: torch.Tensor) -> torch.tensor:\n",
        "  ### your code here\n",
        "  z = (x - mu) / sigma\n",
        "  return z\n",
        "\n",
        "###your code here\n",
        "x_train_mean = x_train.mean(dim=0)\n",
        "x_train_std =  x_train.std(dim=0)\n",
        "x_train = norm_set(x_train, x_train_mean , x_train_std)\n",
        "x_test = norm_set(x_test, x_train_mean, x_train_std)"
      ]
    },
    {
      "cell_type": "markdown",
      "metadata": {
        "id": "d_qQkwRGFBF8"
      },
      "source": [
        "## 1.1 Linear Regression\n",
        "\n",
        "We will building the linear regression model in pytorch using a custom layer.\n",
        "\n",
        "Refering back to the lecture notes, we define $ y = f(x) = w^T x$, so we need to learn weight vector $w$.\n",
        "\n",
        "**Q2.** Fill in the forward method of the LinearRegression class. [2 marks]"
      ]
    },
    {
      "cell_type": "code",
      "execution_count": 242,
      "metadata": {
        "id": "mxp1LoliF3Qc"
      },
      "outputs": [],
      "source": [
        "class LinearRegression(nn.Module):\n",
        "  def __init__(self, num_features):\n",
        "    super().__init__()\n",
        "    self.weight = nn.Parameter(torch.zeros(1, num_features), requires_grad=False)\n",
        "\n",
        "  def forward(self, x):\n",
        "    y = 0\n",
        "    ### your code here\n",
        "    y = torch.matmul(x, self.weight.t())\n",
        "    return y\n"
      ]
    },
    {
      "cell_type": "markdown",
      "source": [
        "As we need to account for the bias, we add a column of ones to the `x_data`"
      ],
      "metadata": {
        "id": "Rr7MDAIWboLi"
      }
    },
    {
      "cell_type": "code",
      "source": [
        "# add a feature for bias\n",
        "x_train = torch.cat([x_train, torch.ones(x_train.shape[0], 1)], dim=1)\n",
        "x_test = torch.cat([x_test, torch.ones(x_test.shape[0], 1)], dim=1)"
      ],
      "metadata": {
        "id": "rCn-E-CZbxOL"
      },
      "execution_count": 243,
      "outputs": []
    },
    {
      "cell_type": "code",
      "source": [
        "x_train"
      ],
      "metadata": {
        "colab": {
          "base_uri": "https://localhost:8080/"
        },
        "id": "IJP4v_x8PDyL",
        "outputId": "8a543651-81d9-48dd-f8ea-9b0946645649"
      },
      "execution_count": 244,
      "outputs": [
        {
          "output_type": "execute_result",
          "data": {
            "text/plain": [
              "tensor([[ 1.4962,  1.0599,  0.2196,  ...,  0.5467, -0.0614,  1.0000],\n",
              "        [-0.2285,  1.0599, -0.4188,  ..., -0.0197,  0.3667,  1.0000],\n",
              "        [ 0.0851, -0.9408,  1.0175,  ...,  0.3308, -0.3182,  1.0000],\n",
              "        ...,\n",
              "        [ 0.6339, -0.9408, -0.4644,  ..., -0.2534, -0.0614,  1.0000],\n",
              "        [-0.3069, -0.9408, -0.5328,  ..., -0.8295, -0.8319,  1.0000],\n",
              "        [-2.0317, -0.9408,  0.5616,  ..., -0.1329, -0.0614,  1.0000]])"
            ]
          },
          "metadata": {},
          "execution_count": 244
        }
      ]
    },
    {
      "cell_type": "code",
      "execution_count": 245,
      "metadata": {
        "id": "Tfeh3o4Gk_xW",
        "colab": {
          "base_uri": "https://localhost:8080/"
        },
        "outputId": "6cd077e8-b75c-4c86-918e-535f9da3258f"
      },
      "outputs": [
        {
          "output_type": "execute_result",
          "data": {
            "text/plain": [
              "torch.Size([353, 1])"
            ]
          },
          "metadata": {},
          "execution_count": 245
        }
      ],
      "source": [
        "## test the custom layer\n",
        "# print(x_train.shape[1])\n",
        "model = LinearRegression(x_train.shape[1])\n",
        "prediction = model(x_train)\n",
        "prediction.shape # the output should be Nx1\n",
        "# print(prediction)"
      ]
    },
    {
      "cell_type": "markdown",
      "metadata": {
        "id": "H-kUQVD9ne_i"
      },
      "source": [
        "The next step is to calculate the cost. For this we will use the mean squared error $E(w) = \\frac{1}{N} Σ_{i=0}^N (f(x_i) - y_i)^2$\n",
        "\n",
        "**Q3.** Fill in the method to calculate the squared error of for any set of labels $y$ and predictions [2 marks]"
      ]
    },
    {
      "cell_type": "code",
      "execution_count": 246,
      "metadata": {
        "id": "25SVCd01l29-"
      },
      "outputs": [],
      "source": [
        "def mean_squared_error(y_pred: torch.Tensor, y_true: torch.Tensor) -> torch.Tensor:\n",
        "  ### your code here\n",
        "  return torch.sum(torch.pow((y_pred - y_true), 2)) / y_pred.numel()"
      ]
    },
    {
      "cell_type": "code",
      "execution_count": 247,
      "metadata": {
        "id": "yTuAgK6FpLEh",
        "colab": {
          "base_uri": "https://localhost:8080/"
        },
        "outputId": "dfa34955-6d30-4d1b-ff4f-a03998df8fd1"
      },
      "outputs": [
        {
          "output_type": "stream",
          "name": "stdout",
          "text": [
            "tensor(29711.3223)\n"
          ]
        }
      ],
      "source": [
        "cost = mean_squared_error(prediction, y_train)\n",
        "print(cost)"
      ]
    },
    {
      "cell_type": "markdown",
      "metadata": {
        "id": "qVV7MCfxqtyA"
      },
      "source": [
        "We see that using a random set of initial parameters for bias and weight, yields a relatively high error. As such, we will update the values for $w$ using gradient descent. We will implement a custom method for gradient descent.\n",
        "\n",
        "**Q4.** In the method below, add your code to update bias and weight using learning rate $α$. [2 marks]\n",
        "\n",
        "First you need to calculate the partial derivative of the loss function with respect to the weights.\n",
        "\n",
        "We then update the weights vector using the following equation:\n",
        "\n",
        "$ weight = weight - α * ∂_{weight}$"
      ]
    },
    {
      "cell_type": "code",
      "execution_count": 248,
      "metadata": {
        "id": "TJXOTQInsIFz"
      },
      "outputs": [],
      "source": [
        "def gradient_descent_step(model: nn.Module, X: torch.Tensor, y: torch.Tensor, y_pred: torch.Tensor, lr: float) -> None:\n",
        "  weight = model.weight\n",
        "  N = X.shape[0]\n",
        "  ### your code here\n",
        "  # calculate the partial derivative of the loss function with respect to w\n",
        "  partial_derivative = 2 * torch.matmul(X.t(), (y_pred-y)) / N\n",
        "  # calculate the new values the weights\n",
        "  weight -= lr * partial_derivative.t()\n",
        "  model.weight = nn.Parameter(weight, requires_grad=False)\n"
      ]
    },
    {
      "cell_type": "code",
      "execution_count": 249,
      "metadata": {
        "id": "4lQDX_zeG6W1",
        "colab": {
          "base_uri": "https://localhost:8080/",
          "height": 499
        },
        "outputId": "a2cefb61-17a9-4d8d-c9b7-09cd1a4967b5"
      },
      "outputs": [
        {
          "output_type": "display_data",
          "data": {
            "text/plain": [
              "<Figure size 640x480 with 2 Axes>"
            ],
            "image/png": "[encoded data removed]"
          },
          "metadata": {}
        },
        {
          "output_type": "stream",
          "name": "stdout",
          "text": [
            "Parameter containing:\n",
            "tensor([[  1.9400, -11.4488,  26.3047,  16.6306,  -9.8810,  -2.3179,  -7.6995,\n",
            "           8.2121,  21.9769,   2.6065, 153.7365]])\n",
            "Minimum cost: 2890.406494140625\n"
          ]
        }
      ],
      "source": [
        "cost_lst = list()\n",
        "model = LinearRegression(x_train.shape[1])\n",
        "alpha = .1\n",
        "for it in range(100):\n",
        "  prediction = model(x_train)\n",
        "  cost = mean_squared_error(y_train, prediction)\n",
        "  cost_lst.append(cost)\n",
        "  gradient_descent_step(model, x_train, y_train, prediction, alpha)\n",
        "fig, axs = plt.subplots(2)\n",
        "axs[0].plot(list(range(it+1)), cost_lst)\n",
        "axs[1].scatter(prediction, y_train)\n",
        "plt.show()\n",
        "print(model.weight)\n",
        "print('Minimum cost: {}'.format(min(cost_lst)))"
      ]
    },
    {
      "cell_type": "markdown",
      "metadata": {
        "id": "Mwypj_XWLKKq"
      },
      "source": [
        "<font color=\"maroon\">**Q5.** What conclusion if any can be drawn from the weight values? How does gender and BMI affect blood sugar levels?\n",
        "\n",
        "What are the estimated blood sugar levels for the below examples? [2 marks] </font>\n",
        "\n",
        "| AGE | SEX | BMI | BP  | S1  | S2    | S3 | S4  | S5     | S6  |\n",
        "|-----|-----|-----|-----|-----|-------|----|-----|--------|-----|\n",
        "| 25  | F   | 18  | 79  | 130 | 64.8  | 61 | 2   | 4.1897 | 68  |\n",
        "| 50  | M   | 28  | 103 | 229 | 162.2 | 60 | 4.5 | 6.107  | 124 |"
      ]
    },
    {
      "cell_type": "code",
      "source": [
        "model.weight[0,1], model.weight[0,2]"
      ],
      "metadata": {
        "colab": {
          "base_uri": "https://localhost:8080/"
        },
        "id": "ePZiegapYUdJ",
        "outputId": "11d89f5a-7e39-4b1b-a76a-0651dcbfa037"
      },
      "execution_count": 250,
      "outputs": [
        {
          "output_type": "execute_result",
          "data": {
            "text/plain": [
              "(tensor(-11.4488), tensor(26.3047))"
            ]
          },
          "metadata": {},
          "execution_count": 250
        }
      ]
    },
    {
      "cell_type": "markdown",
      "source": [
        "<font color=\"yellow\">In linear regression, the weight values, also known as coefficients or regression coefficients, represent the importance or influence of each predictor variable on the target variable. The sign (positive or negative) of the weight value indicates the direction of the relationship, while the magnitude represents the strength of the relationship.\n",
        "By examining the weight values, you can make the following conclusions:\n",
        "\n",
        "Positive weight values for a predictor variable indicate that an increase in that variable is associated with an increase in blood sugar levels, while negative weight values indicate the opposite.\n",
        "The magnitude of the weight value determines the extent of the influence. A larger magnitude suggests a stronger relationship between the predictor and the target variable.</font>\n",
        "<font color=\"yellow\">\n",
        "Gender: If the weight value for gender is statistically significant and has a non-zero value, it suggests that gender has an influence on blood sugar levels. For example, if the weight value for gender is positive, it indicates that being of a certain gender (e.g., male or female) is associated with higher blood sugar levels, while a negative weight suggests the opposite. The magnitude of the weight value provides an indication of the strength of this association.\n",
        "BMI: Similarly, if the weight value for BMI is statistically significant and non-zero, it implies that BMI has an impact on blood sugar levels. A positive weight value for BMI suggests that higher BMI values are associated with higher blood sugar levels, while a negative weight value indicates the opposite. The magnitude of the weight value determines the strength of this relationship.</font>"
      ],
      "metadata": {
        "id": "sCxxV5PzY79D"
      }
    },
    {
      "cell_type": "code",
      "execution_count": 251,
      "metadata": {
        "id": "StYxCUdPWSEp",
        "colab": {
          "base_uri": "https://localhost:8080/"
        },
        "outputId": "ca8a57c4-58d6-4eb0-d8bb-d77eca4d4e04"
      },
      "outputs": [
        {
          "output_type": "execute_result",
          "data": {
            "text/plain": [
              "tensor([[ 43.5294],\n",
              "        [232.2310]])"
            ]
          },
          "metadata": {},
          "execution_count": 251
        }
      ],
      "source": [
        "import numpy as np\n",
        "### your code here\n",
        "sample_data = np.array([[25, 2, 18, 79, 130, 64.8, 61, 2, 4.1897, 68 ],\n",
        "          [50,\t1, 28,\t103,\t229,\t162.2,\t60,\t4.5,\t6.107, 124]])\n",
        "\n",
        "sample_data_tensor = torch.from_numpy(sample_data).float()\n",
        "sample_data_tensor = norm_set(sample_data_tensor, x_train_mean, x_train_std)\n",
        "sample_data_tensor = torch.cat([sample_data_tensor, torch.ones(sample_data_tensor.shape[0], 1)], dim=1)\n",
        "prediction = model(sample_data_tensor)\n",
        "prediction"
      ]
    },
    {
      "cell_type": "markdown",
      "metadata": {
        "id": "9IlXN47P-cCY"
      },
      "source": [
        "Now estimate the error on the test set. Is the error on the test set comparable to that of the train set? What can be said about the fit of the model? When does a model over/under fits?\n"
      ]
    },
    {
      "cell_type": "code",
      "execution_count": 252,
      "metadata": {
        "id": "_yuYH06A-xoj",
        "colab": {
          "base_uri": "https://localhost:8080/"
        },
        "outputId": "bc7f49b1-2c8e-4021-f5bc-39a42d9b6a9c"
      },
      "outputs": [
        {
          "output_type": "stream",
          "name": "stdout",
          "text": [
            "tensor(2885.6191)\n"
          ]
        }
      ],
      "source": [
        "### your code here\n",
        "test_prediction = model(x_test)\n",
        "cost = mean_squared_error(test_prediction, y_test)\n",
        "print(cost)"
      ]
    },
    {
      "cell_type": "markdown",
      "source": [
        "<font color=\"Yellow\"> Comparison of errors: the mean squared error (MSE) on the train set is tensor(29711.3223), while the MSE on the test set is tensor(2929.9829). It appears that the MSE on the test set is significantly lower than that on the train set. This suggests that the model is performing better on the test set compared to the train set, which is generally desirable. However, the absolute values of the errors alone do not provide a complete understanding of the model's performance. It is important to consider the scale and context of the problem to make a meaningful comparison.</font>\n",
        "\n",
        "\n",
        "<font color=\"Yellow\">Model fit: The fit of the model refers to how well it captures the underlying patterns and relationships in the data. A well-fitting model should generalize well to unseen data, such as the test set. In your case, if the model is performing better on the test set than the train set, it suggests that the model has learned the patterns in the data and is generalizing well.</font>\n",
        "\n",
        "\n",
        "<font color=\"Yellow\">Overfitting: Overfitting occurs when a model learns the training data too well, to the extent that it captures noise or random fluctuations in the data. This results in poor performance on unseen data, such as the test set. Signs of overfitting include a significantly lower error on the train set compared to the test set. To mitigate overfitting, techniques like regularization, cross-validation, or reducing model complexity can be employed.</font>\n",
        "\n",
        "\n",
        "<font color=\"Yellow\">Underfitting: Underfitting, on the other hand, occurs when a model is too simplistic or has insufficient capacity to capture the underlying patterns in the data. This leads to poor performance on both the train and test sets. Signs of underfitting include high errors on both sets and a lack of improvement as the model complexity increases. In such cases, it may be necessary to increase the model's capacity or consider more advanced models.</font>\n",
        "\n",
        "\n",
        "<font color=\"Yellow\">In summary, based on the provided information, it seems that the model is performing better on the test set compared to the train set, indicating a good fit. However, it is important to consider the specific problem, data, and context to make a more comprehensive evaluation of the model's performance.</font>\n"
      ],
      "metadata": {
        "id": "5NArJsyDTdDR"
      }
    },
    {
      "cell_type": "markdown",
      "source": [
        "<font color=\"maroon\">**Q6.** Try the code with a number of learning rates that differ by orders of magnitude and record the error of the training and test sets. What do you observe on the training error? What about the error on the test set? [3 marks]</font>"
      ],
      "metadata": {
        "id": "qnz2O9Pagpf7"
      }
    },
    {
      "cell_type": "code",
      "source": [
        "def calculate_error(lr):\n",
        "\n",
        "  cost_lst = list()\n",
        "  model = LinearRegression(x_train.shape[1])\n",
        "\n",
        "  for it in range(100):\n",
        "    prediction = model(x_train)\n",
        "    cost = mean_squared_error(y_train, prediction)\n",
        "    cost_lst.append(cost)\n",
        "    gradient_descent_step(model, x_train, y_train, prediction, lr)\n",
        "\n",
        "  test_prediction = model(x_test)\n",
        "  test_cost = mean_squared_error(y_test, test_prediction)\n",
        "  print(\"Learning_rate {}\\n Min_train_cost {}\\n test_cost {}\\n--------\\n\".format(lr, min(cost_lst), test_cost ))\n",
        "  return min(cost_lst), test_cost"
      ],
      "metadata": {
        "id": "OQnPo5SScbOY"
      },
      "execution_count": 253,
      "outputs": []
    },
    {
      "cell_type": "code",
      "execution_count": 254,
      "metadata": {
        "id": "Sp9nNM0R-7CH",
        "colab": {
          "base_uri": "https://localhost:8080/"
        },
        "outputId": "b2277811-8286-4bd9-c693-45b679970b8b"
      },
      "outputs": [
        {
          "output_type": "stream",
          "name": "stdout",
          "text": [
            "Learning_rate 0.01\n",
            " Min_train_cost 3356.77734375\n",
            " test_cost 3431.068359375\n",
            "--------\n",
            "\n",
            "Learning_rate 0.02\n",
            " Min_train_cost 2906.434814453125\n",
            " test_cost 2906.97900390625\n",
            "--------\n",
            "\n",
            "Learning_rate 0.03\n",
            " Min_train_cost 2897.025634765625\n",
            " test_cost 2885.867431640625\n",
            "--------\n",
            "\n",
            "Learning_rate 0.04\n",
            " Min_train_cost 2895.79345703125\n",
            " test_cost 2884.759521484375\n",
            "--------\n",
            "\n",
            "Learning_rate 0.05\n",
            " Min_train_cost 2894.800048828125\n",
            " test_cost 2884.92236328125\n",
            "--------\n",
            "\n",
            "Learning_rate 0.060000000000000005\n",
            " Min_train_cost 2893.853515625\n",
            " test_cost 2885.09912109375\n",
            "--------\n",
            "\n",
            "Learning_rate 0.06999999999999999\n",
            " Min_train_cost 2892.943115234375\n",
            " test_cost 2885.2470703125\n",
            "--------\n",
            "\n",
            "Learning_rate 0.08\n",
            " Min_train_cost 2892.066162109375\n",
            " test_cost 2885.381591796875\n",
            "--------\n",
            "\n",
            "Learning_rate 0.09\n",
            " Min_train_cost 2891.220703125\n",
            " test_cost 2885.5048828125\n",
            "--------\n",
            "\n",
            "Learning_rate 0.09999999999999999\n",
            " Min_train_cost 2890.406494140625\n",
            " test_cost 2885.619140625\n",
            "--------\n",
            "\n",
            "Learning_rate 0.11\n",
            " Min_train_cost 2889.62109375\n",
            " test_cost 2885.7255859375\n",
            "--------\n",
            "\n",
            "Learning_rate 0.12\n",
            " Min_train_cost 2888.864990234375\n",
            " test_cost 2885.824951171875\n",
            "--------\n",
            "\n",
            "Learning_rate 0.13\n",
            " Min_train_cost 2888.13525390625\n",
            " test_cost 2885.918701171875\n",
            "--------\n",
            "\n",
            "Learning_rate 0.14\n",
            " Min_train_cost 2887.43212890625\n",
            " test_cost 2886.0087890625\n",
            "--------\n",
            "\n",
            "Learning_rate 0.15000000000000002\n",
            " Min_train_cost 2886.754150390625\n",
            " test_cost 2886.0966796875\n",
            "--------\n",
            "\n",
            "Learning_rate 0.16\n",
            " Min_train_cost 2886.10009765625\n",
            " test_cost 2886.1826171875\n",
            "--------\n",
            "\n",
            "Learning_rate 0.17\n",
            " Min_train_cost 2885.469482421875\n",
            " test_cost 2886.267822265625\n",
            "--------\n",
            "\n",
            "Learning_rate 0.18000000000000002\n",
            " Min_train_cost 2884.86181640625\n",
            " test_cost 2886.352783203125\n",
            "--------\n",
            "\n",
            "Learning_rate 0.19\n",
            " Min_train_cost 2884.27587890625\n",
            " test_cost 2886.439208984375\n",
            "--------\n",
            "\n",
            "Learning_rate 0.2\n",
            " Min_train_cost 2883.710693359375\n",
            " test_cost 2886.52587890625\n",
            "--------\n",
            "\n"
          ]
        }
      ],
      "source": [
        "### your code here\n",
        "learning_rates = np.arange(0.01, 0.2 + 0.01, 0.01)\n",
        "train_costs = []\n",
        "test_costs = []\n",
        "for lr in learning_rates:\n",
        "  min_train_cost, test_cost = calculate_error(lr)\n",
        "  test_costs.append(test_cost)\n",
        "  train_costs.append(min_train_cost)\n",
        "\n"
      ]
    },
    {
      "cell_type": "code",
      "source": [
        "plt.plot(learning_rates, train_costs, marker='o', label='Train Cost')\n",
        "\n",
        "plt.xlabel('Learning Rate')\n",
        "plt.ylabel('Cost')\n",
        "plt.title('Train Cost vs. Learning Rate')\n",
        "plt.legend()\n",
        "plt.show()"
      ],
      "metadata": {
        "colab": {
          "base_uri": "https://localhost:8080/",
          "height": 472
        },
        "id": "j-Ia0staQoo4",
        "outputId": "a50f51b6-5a30-4277-89ea-3694d593324e"
      },
      "execution_count": 255,
      "outputs": [
        {
          "output_type": "display_data",
          "data": {
            "text/plain": [
              "<Figure size 640x480 with 1 Axes>"
            ],
            "image/png": "[encoded data removed]"
          },
          "metadata": {}
        }
      ]
    },
    {
      "cell_type": "code",
      "source": [
        "\n",
        "plt.plot(learning_rates, test_costs, marker='o', label='Test Cost')\n",
        "\n",
        "\n",
        "plt.xlabel('Learning Rate')\n",
        "plt.ylabel('Cost')\n",
        "plt.title('Test Cost vs. Learning Rate')\n",
        "plt.legend()\n",
        "plt.show()"
      ],
      "metadata": {
        "colab": {
          "base_uri": "https://localhost:8080/",
          "height": 472
        },
        "id": "HS5ZnkOpQmic",
        "outputId": "fc7e3c4e-9afe-4083-888a-08171c437ade"
      },
      "execution_count": 256,
      "outputs": [
        {
          "output_type": "display_data",
          "data": {
            "text/plain": [
              "<Figure size 640x480 with 1 Axes>"
            ],
            "image/png": "[encoded data removed]"
          },
          "metadata": {}
        }
      ]
    },
    {
      "cell_type": "markdown",
      "metadata": {
        "id": "eI9cKY_TWiUM"
      },
      "source": [
        "# 1.2 Regularized Linear Regression\n",
        "In this exercise, we will be trying to create a model that fits data that is clearly not linear. We will be attempting to fit the data points seen in the graph below:"
      ]
    },
    {
      "cell_type": "code",
      "execution_count": 257,
      "metadata": {
        "id": "hupAUhrofKfy",
        "colab": {
          "base_uri": "https://localhost:8080/",
          "height": 430
        },
        "outputId": "ccc8f538-e2d3-4882-b860-35dded2ec155"
      },
      "outputs": [
        {
          "output_type": "display_data",
          "data": {
            "text/plain": [
              "<Figure size 640x480 with 1 Axes>"
            ],
            "image/png": "[encoded data removed]"
          },
          "metadata": {}
        }
      ],
      "source": [
        "x = torch.tensor([-0.99768, -0.69574, -0.40373, -0.10236, 0.22024, 0.47742, 0.82229])\n",
        "y = torch.tensor([2.0885, 1.1646, 0.3287, 0.46013, 0.44808, 0.10013, -0.32952]).reshape(-1, 1)\n",
        "plt.scatter(x, y)\n",
        "plt.show()"
      ]
    },
    {
      "cell_type": "markdown",
      "metadata": {
        "id": "k6epuBvnf7P9"
      },
      "source": [
        "In order to fit this data we will create a new hypothesis function, which uses a fifth-order polynomial:\n",
        "\n",
        "$\n",
        " h_{\\theta}(x) = \\theta_{0} x_{0} + \\theta_{1} x_{1} + \\theta_{2} x_{1} ^2 + \\theta_{3} x_{1} ^3 + \\theta_{4} x_{1} ^4 + \\theta_{5} x_{1} ^5\n",
        "$\n",
        "\n",
        "As we are fitting a small number of points with a high order model, there is a danger of overfitting.  \\\\\n",
        "\n",
        "To attempt to avoid this we will use regularization. Our cost function becomes:\n",
        "\n",
        "$\n",
        " J(\\theta) = \\frac{1}{2m}  \\left[ \\sum_{i=1}^m ( h_{\\theta}(x^{(i)}) - y^{(i)})^2 + \\lambda    \\sum_{j=1}^n \\theta_{j}^2 \\right]\n",
        "$\n",
        "\n",
        "Adjust variable `x` to include the higher order polynomials"
      ]
    },
    {
      "cell_type": "code",
      "execution_count": 258,
      "metadata": {
        "id": "4nOF1xJKY_Jx",
        "colab": {
          "base_uri": "https://localhost:8080/"
        },
        "outputId": "b655fb51-4d06-41e3-e81a-08307b1df622"
      },
      "outputs": [
        {
          "output_type": "stream",
          "name": "stdout",
          "text": [
            "tensor([[ 1.0000e+00, -9.9768e-01,  9.9537e-01, -9.9306e-01,  9.9075e-01,\n",
            "         -9.8845e-01],\n",
            "        [ 1.0000e+00, -6.9574e-01,  4.8405e-01, -3.3678e-01,  2.3431e-01,\n",
            "         -1.6302e-01],\n",
            "        [ 1.0000e+00, -4.0373e-01,  1.6300e-01, -6.5807e-02,  2.6568e-02,\n",
            "         -1.0726e-02],\n",
            "        [ 1.0000e+00, -1.0236e-01,  1.0478e-02, -1.0725e-03,  1.0978e-04,\n",
            "         -1.1237e-05],\n",
            "        [ 1.0000e+00,  2.2024e-01,  4.8506e-02,  1.0683e-02,  2.3528e-03,\n",
            "          5.1818e-04],\n",
            "        [ 1.0000e+00,  4.7742e-01,  2.2793e-01,  1.0882e-01,  5.1952e-02,\n",
            "          2.4803e-02],\n",
            "        [ 1.0000e+00,  8.2229e-01,  6.7616e-01,  5.5600e-01,  4.5719e-01,\n",
            "          3.7595e-01]])\n"
          ]
        }
      ],
      "source": [
        "### your code here\n",
        "### hint: remember to add x_0 for the bias\n",
        "x3 = torch.stack([torch.ones_like(x), x**1, x**2, x**3, x**4, x**5 ], dim=1)\n",
        "print(x3)"
      ]
    },
    {
      "cell_type": "markdown",
      "metadata": {
        "id": "cg9OdKcyhEN0"
      },
      "source": [
        "**Q7.** Update the cost and gradient descent methods to use the regularised cost, as shown above. [4 marks]\n",
        "\n",
        "Note that the punishment for having more terms is not applied to the bias. This means that we use a different update technique for the partial derivative of $\\theta_{0}$, and add the regularization to all of the others:\n",
        "\n",
        "\n",
        "\n",
        "$\n",
        " \\theta_{j} =  \\theta_{j} - \\alpha \\frac{1}{m} \\sum_{i=1}^m ( h_{\\theta}(x^{(i)}) - y^{(i)})x^{(i)}_{j} , j=0\n",
        "$\n",
        "\n",
        "\n",
        "\n",
        "$\n",
        " \\theta_{j} =  \\theta_{j} (1 - \\alpha \\frac{\\lambda}{m}) -\n",
        " \\alpha \\frac{1}{m} \\sum_{i=1}^m ( h_{\\theta}(x^{(i)}) - y^{(i)})x^{(i)}_{j} , j>0\n",
        "$"
      ]
    },
    {
      "cell_type": "code",
      "execution_count": 259,
      "metadata": {
        "id": "c-h9vdC5hSPO"
      },
      "outputs": [],
      "source": [
        "def mean_squared_error(y_true: torch.Tensor, y_pred: torch.Tensor, lam: float, theta: torch.tensor) -> torch.Tensor:\n",
        "  ### your code here\n",
        "  m = y_true.shape[0]\n",
        "  return (torch.sum((y_pred - y_true) ** 2) / (2*m)) + ((lam / (2 * m)) * torch.sum(theta ** 2))\n",
        "\n",
        "def gradient_descent_step(model: nn.Module, X: torch.Tensor, y: torch.Tensor, y_pred: torch.Tensor, lr: float, lam: float) -> None:\n",
        "  weight = model.weight\n",
        "  N = X.shape[0]\n",
        "  ### your code here\n",
        "  weight[0, 0] = weight[0,0] - ((lr/ N) * torch.sum((y_pred - y).t() * X[:,0]))\n",
        "  weight[0, 1:] = (weight[0, 1:] * (1 - (lr * lam / N))) - ((lr/ N) * torch.matmul((y_pred - y).t(),  X[:, 1:]))\n",
        "  model.weight = nn.Parameter(weight, requires_grad=False)"
      ]
    },
    {
      "cell_type": "markdown",
      "metadata": {
        "id": "-ZfVxPRYkns1"
      },
      "source": [
        "<font color=\"maroon\"> **Q8.** First of all, find the best value of alpha to use in order to optimize best.\n",
        "Next, experiment with different values of $\\lambda$ and see how this affects the shape of the hypothesis. [3 marks]</font>"
      ]
    },
    {
      "cell_type": "code",
      "execution_count": 260,
      "metadata": {
        "id": "9hFP4DHzZDkB",
        "colab": {
          "base_uri": "https://localhost:8080/",
          "height": 482
        },
        "outputId": "67dbe2a0-8547-4d98-a78e-2c7d008f560b"
      },
      "outputs": [
        {
          "output_type": "display_data",
          "data": {
            "text/plain": [
              "<Figure size 640x480 with 1 Axes>"
            ],
            "image/png": "[encoded data removed]"
          },
          "metadata": {}
        },
        {
          "output_type": "stream",
          "name": "stdout",
          "text": [
            "Parameter containing:\n",
            "tensor([[ 0.3796, -0.2814,  0.0965, -0.8095,  0.1385, -0.4215]])\n",
            "Minimum cost: 0.008910697884857655\n"
          ]
        }
      ],
      "source": [
        "cost_lst = list()\n",
        "model = LinearRegression(x3.shape[1])\n",
        "alpha = 1.42 # select an appropriate alpha\n",
        "lam = 0.01 # select an appropriate lambda\n",
        "for it in range(100):\n",
        "  prediction = model(x3)\n",
        "  cost = mean_squared_error(y, prediction, lam, model.weight)\n",
        "  cost_lst.append(cost)\n",
        "  gradient_descent_step(model, x3, y, prediction, alpha, lam)\n",
        "display.clear_output(wait=True)\n",
        "plt.plot(list(range(it+1)), cost_lst)\n",
        "plt.show()\n",
        "print(model.weight)\n",
        "print('Minimum cost: {}'.format(min(cost_lst)))\n"
      ]
    },
    {
      "cell_type": "code",
      "source": [
        "#FINDING ALPHA\n",
        "# alphas = np.arange(0.01, 10 + 0.01, 0.01) # select an appropriate alpha\n",
        "# lam = 0 # select an appropriate lambda\n",
        "# total_costs = []\n",
        "# for alpha in alphas:\n",
        "#   cost_lst = list()\n",
        "#   model = LinearRegression(x3.shape[1])\n",
        "#   for it in range(100):\n",
        "#     prediction = model(x3)\n",
        "#     cost = mean_squared_error(y, prediction, lam, model.weight)\n",
        "#     cost_lst.append(cost)\n",
        "#     gradient_descent_step(model, x3, y, prediction, alpha, lam)\n",
        "\n",
        "#   display.clear_output(wait=True)\n",
        "#   total_costs.append(min(cost_lst))\n",
        "\n",
        "# plt.plot(alphas, total_costs)\n",
        "# plt.show()\n",
        "# # print(model.weight)\n",
        "# print('Minimum cost: {} alpha: {}'.format(min(total_costs), alphas[total_costs.index(min(total_costs))]))\n"
      ],
      "metadata": {
        "id": "in7ZIZhvy8Zj"
      },
      "execution_count": 261,
      "outputs": []
    },
    {
      "cell_type": "code",
      "source": [
        "#FINDING LAMBDA BASED ON ALPHA\n",
        "# alpha = 1.42 # select an appropriate alpha\n",
        "# lambdas = np.arange(0.01, 10 + 0.01, 0.01) # select an appropriate lambda\n",
        "# total_costs = []\n",
        "# for lam in lambdas:\n",
        "#   cost_lst = list()\n",
        "#   model = LinearRegression(x3.shape[1])\n",
        "#   for it in range(100):\n",
        "#     prediction = model(x3)\n",
        "#     cost = mean_squared_error(y, prediction, lam, model.weight)\n",
        "#     cost_lst.append(cost)\n",
        "#     gradient_descent_step(model, x3, y, prediction, alpha, lam)\n",
        "\n",
        "#   display.clear_output(wait=True)\n",
        "#   total_costs.append(min(cost_lst))\n",
        "\n",
        "# plt.plot(lambdas, total_costs)\n",
        "# plt.show()\n",
        "# # print(model.weight)\n",
        "# print('Minimum cost: {} lambda: {}'.format(min(total_costs), lambdas[total_costs.index(min(total_costs))]))"
      ],
      "metadata": {
        "id": "AutjaXHx4j4L"
      },
      "execution_count": 262,
      "outputs": []
    },
    {
      "cell_type": "code",
      "source": [
        "plt.scatter(x3[:, 0], y, c='red', marker='x', label='groundtruth')\n",
        "outputs = model(x3)\n",
        "plt.plot(x3[:, 0], outputs, c='blue', marker='o', label='prediction')\n",
        "plt.xlabel('x1')\n",
        "plt.ylabel('y=f(x1)')\n",
        "plt.legend()\n",
        "plt.show()"
      ],
      "metadata": {
        "id": "nG9A-_3h9QAG",
        "outputId": "af92b7e5-c60d-4bb8-9ad0-90b24839fa35",
        "colab": {
          "base_uri": "https://localhost:8080/",
          "height": 449
        }
      },
      "execution_count": 263,
      "outputs": [
        {
          "output_type": "display_data",
          "data": {
            "text/plain": [
              "<Figure size 640x480 with 1 Axes>"
            ],
            "image/png": "[encoded data removed]"
          },
          "metadata": {}
        }
      ]
    },
    {
      "cell_type": "code",
      "execution_count": 264,
      "metadata": {
        "id": "xys3bBGpk8wp",
        "colab": {
          "base_uri": "https://localhost:8080/",
          "height": 449
        },
        "outputId": "e29d334b-4e07-4a00-e987-0fd81fe5d1f2"
      },
      "outputs": [
        {
          "output_type": "display_data",
          "data": {
            "text/plain": [
              "<Figure size 640x480 with 1 Axes>"
            ],
            "image/png": "[encoded data removed]"
          },
          "metadata": {}
        }
      ],
      "source": [
        "plt.scatter(x3[:, 1], y, c='red', marker='x', label='groundtruth')\n",
        "outputs = model(x3)\n",
        "plt.plot(x3[:, 1], outputs, c='blue', marker='o', label='prediction')\n",
        "plt.xlabel('x1')\n",
        "plt.ylabel('y=f(x1)')\n",
        "plt.legend()\n",
        "plt.show()"
      ]
    }
  ],
  "metadata": {
    "colab": {
      "provenance": [],
      "include_colab_link": true
    },
    "kernelspec": {
      "display_name": "Python 3",
      "name": "python3"
    },
    "language_info": {
      "name": "python"
    }
  },
  "nbformat": 4,
  "nbformat_minor": 0
}