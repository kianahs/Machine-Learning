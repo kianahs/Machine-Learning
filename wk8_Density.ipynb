{
  "nbformat": 4,
  "nbformat_minor": 0,
  "metadata": {
    "colab": {
      "provenance": [],
      "collapsed_sections": [
        "2PebY0ALYbI7"
      ],
      "include_colab_link": true
    },
    "kernelspec": {
      "name": "python3",
      "display_name": "Python 3"
    },
    "language_info": {
      "name": "python"
    }
  },
  "cells": [
    {
      "cell_type": "markdown",
      "metadata": {
        "id": "view-in-github",
        "colab_type": "text"
      },
      "source": [
        "<a href=\"https://colab.research.google.com/github/kianahs/Machine-Learning/blob/main/wk8_Density.ipynb\" target=\"_parent\"><img src=\"https://colab.research.google.com/assets/colab-badge.svg\" alt=\"Open In Colab\"/></a>"
      ]
    },
    {
      "cell_type": "markdown",
      "source": [
        "## 0. Introduction\n",
        "\n",
        "The aim of this lab is to get familiar with **Mixture of Gaussians** model.\n",
        "\n",
        "\n",
        "1.   This lab is the course-work activity **Assignment 2: Unsupervised Learning(20%)**\n",
        "2. The Assignment is due on **Friday , 1st December, 11:59pm**\n",
        "2.   A report answering the <font color = 'red'>**questions in</font><font color = \"maroon\"> red**</font> should be submitted on QMplus along with the completed Notebook.\n",
        "3. The report should be a separate file in **pdf format** (so **NOT** *doc, docx, notebook* etc.), well identified with your name, student number, assignment number (for instance, Assignment 1), module code.\n",
        "4. Make sure that **any figures or code** you comment on, are **included in the report**.\n",
        "5. No other means of submission other than the appropriate QM+ link is acceptable at any time (so NO email attachments, etc.)\n",
        "6. **PLAGIARISM** <ins>is an irreversible non-negotiable failure in the course</ins> (if in doubt of what constitutes plagiarism, ask!)."
      ],
      "metadata": {
        "id": "lpte-at4T79w"
      }
    },
    {
      "cell_type": "code",
      "source": [
        "import os\n",
        "import numpy as np\n",
        "import scipy\n",
        "from sklearn.preprocessing import normalize\n",
        "import matplotlib.pyplot as plt\n",
        "from IPython import display\n",
        "%matplotlib inline"
      ],
      "metadata": {
        "id": "Dz2sG0zXUIJ9"
      },
      "execution_count": 1,
      "outputs": []
    },
    {
      "cell_type": "markdown",
      "source": [
        "For this lab, we will use the Peterson and Barney’s dataset of vowel formant frequencies. (For more info, look at Classification of Peterson & Barney’s vowels using Weka. - a copy of this article is on QMplus)\n",
        "\n",
        "More specifically, Peterson and Barney measured the fundamental frequency $F0$ and the first three formant frequencies ($F1-F3$) of sustained English Vowels, using samples from various speakers.\n",
        "\n",
        "Upload the .npy file and load it using the code block below."
      ],
      "metadata": {
        "id": "GspA1XVXUIm0"
      }
    },
    {
      "cell_type": "code",
      "execution_count": 2,
      "metadata": {
        "id": "9vt8VuacxJQ-",
        "colab": {
          "base_uri": "https://localhost:8080/",
          "height": 73
        },
        "outputId": "3bc7e18a-7878-478a-af4f-58e32232e0b9"
      },
      "outputs": [
        {
          "output_type": "display_data",
          "data": {
            "text/plain": [
              "<IPython.core.display.HTML object>"
            ],
            "text/html": [
              "\n",
              "     <input type=\"file\" id=\"files-21d5d006-62e3-450e-b7aa-bb1bdcd494f6\" name=\"files[]\" multiple disabled\n",
              "        style=\"border:none\" />\n",
              "     <output id=\"result-21d5d006-62e3-450e-b7aa-bb1bdcd494f6\">\n",
              "      Upload widget is only available when the cell has been executed in the\n",
              "      current browser session. Please rerun this cell to enable.\n",
              "      </output>\n",
              "      <script>// Copyright 2017 Google LLC\n",
              "//\n",
              "// Licensed under the Apache License, Version 2.0 (the \"License\");\n",
              "// you may not use this file except in compliance with the License.\n",
              "// You may obtain a copy of the License at\n",
              "//\n",
              "//      http://www.apache.org/licenses/LICENSE-2.0\n",
              "//\n",
              "// Unless required by applicable law or agreed to in writing, software\n",
              "// distributed under the License is distributed on an \"AS IS\" BASIS,\n",
              "// WITHOUT WARRANTIES OR CONDITIONS OF ANY KIND, either express or implied.\n",
              "// See the License for the specific language governing permissions and\n",
              "// limitations under the License.\n",
              "\n",
              "/**\n",
              " * @fileoverview Helpers for google.colab Python module.\n",
              " */\n",
              "(function(scope) {\n",
              "function span(text, styleAttributes = {}) {\n",
              "  const element = document.createElement('span');\n",
              "  element.textContent = text;\n",
              "  for (const key of Object.keys(styleAttributes)) {\n",
              "    element.style[key] = styleAttributes[key];\n",
              "  }\n",
              "  return element;\n",
              "}\n",
              "\n",
              "// Max number of bytes which will be uploaded at a time.\n",
              "const MAX_PAYLOAD_SIZE = 100 * 1024;\n",
              "\n",
              "function _uploadFiles(inputId, outputId) {\n",
              "  const steps = uploadFilesStep(inputId, outputId);\n",
              "  const outputElement = document.getElementById(outputId);\n",
              "  // Cache steps on the outputElement to make it available for the next call\n",
              "  // to uploadFilesContinue from Python.\n",
              "  outputElement.steps = steps;\n",
              "\n",
              "  return _uploadFilesContinue(outputId);\n",
              "}\n",
              "\n",
              "// This is roughly an async generator (not supported in the browser yet),\n",
              "// where there are multiple asynchronous steps and the Python side is going\n",
              "// to poll for completion of each step.\n",
              "// This uses a Promise to block the python side on completion of each step,\n",
              "// then passes the result of the previous step as the input to the next step.\n",
              "function _uploadFilesContinue(outputId) {\n",
              "  const outputElement = document.getElementById(outputId);\n",
              "  const steps = outputElement.steps;\n",
              "\n",
              "  const next = steps.next(outputElement.lastPromiseValue);\n",
              "  return Promise.resolve(next.value.promise).then((value) => {\n",
              "    // Cache the last promise value to make it available to the next\n",
              "    // step of the generator.\n",
              "    outputElement.lastPromiseValue = value;\n",
              "    return next.value.response;\n",
              "  });\n",
              "}\n",
              "\n",
              "/**\n",
              " * Generator function which is called between each async step of the upload\n",
              " * process.\n",
              " * @param {string} inputId Element ID of the input file picker element.\n",
              " * @param {string} outputId Element ID of the output display.\n",
              " * @return {!Iterable<!Object>} Iterable of next steps.\n",
              " */\n",
              "function* uploadFilesStep(inputId, outputId) {\n",
              "  const inputElement = document.getElementById(inputId);\n",
              "  inputElement.disabled = false;\n",
              "\n",
              "  const outputElement = document.getElementById(outputId);\n",
              "  outputElement.innerHTML = '';\n",
              "\n",
              "  const pickedPromise = new Promise((resolve) => {\n",
              "    inputElement.addEventListener('change', (e) => {\n",
              "      resolve(e.target.files);\n",
              "    });\n",
              "  });\n",
              "\n",
              "  const cancel = document.createElement('button');\n",
              "  inputElement.parentElement.appendChild(cancel);\n",
              "  cancel.textContent = 'Cancel upload';\n",
              "  const cancelPromise = new Promise((resolve) => {\n",
              "    cancel.onclick = () => {\n",
              "      resolve(null);\n",
              "    };\n",
              "  });\n",
              "\n",
              "  // Wait for the user to pick the files.\n",
              "  const files = yield {\n",
              "    promise: Promise.race([pickedPromise, cancelPromise]),\n",
              "    response: {\n",
              "      action: 'starting',\n",
              "    }\n",
              "  };\n",
              "\n",
              "  cancel.remove();\n",
              "\n",
              "  // Disable the input element since further picks are not allowed.\n",
              "  inputElement.disabled = true;\n",
              "\n",
              "  if (!files) {\n",
              "    return {\n",
              "      response: {\n",
              "        action: 'complete',\n",
              "      }\n",
              "    };\n",
              "  }\n",
              "\n",
              "  for (const file of files) {\n",
              "    const li = document.createElement('li');\n",
              "    li.append(span(file.name, {fontWeight: 'bold'}));\n",
              "    li.append(span(\n",
              "        `(${file.type || 'n/a'}) - ${file.size} bytes, ` +\n",
              "        `last modified: ${\n",
              "            file.lastModifiedDate ? file.lastModifiedDate.toLocaleDateString() :\n",
              "                                    'n/a'} - `));\n",
              "    const percent = span('0% done');\n",
              "    li.appendChild(percent);\n",
              "\n",
              "    outputElement.appendChild(li);\n",
              "\n",
              "    const fileDataPromise = new Promise((resolve) => {\n",
              "      const reader = new FileReader();\n",
              "      reader.onload = (e) => {\n",
              "        resolve(e.target.result);\n",
              "      };\n",
              "      reader.readAsArrayBuffer(file);\n",
              "    });\n",
              "    // Wait for the data to be ready.\n",
              "    let fileData = yield {\n",
              "      promise: fileDataPromise,\n",
              "      response: {\n",
              "        action: 'continue',\n",
              "      }\n",
              "    };\n",
              "\n",
              "    // Use a chunked sending to avoid message size limits. See b/62115660.\n",
              "    let position = 0;\n",
              "    do {\n",
              "      const length = Math.min(fileData.byteLength - position, MAX_PAYLOAD_SIZE);\n",
              "      const chunk = new Uint8Array(fileData, position, length);\n",
              "      position += length;\n",
              "\n",
              "      const base64 = btoa(String.fromCharCode.apply(null, chunk));\n",
              "      yield {\n",
              "        response: {\n",
              "          action: 'append',\n",
              "          file: file.name,\n",
              "          data: base64,\n",
              "        },\n",
              "      };\n",
              "\n",
              "      let percentDone = fileData.byteLength === 0 ?\n",
              "          100 :\n",
              "          Math.round((position / fileData.byteLength) * 100);\n",
              "      percent.textContent = `${percentDone}% done`;\n",
              "\n",
              "    } while (position < fileData.byteLength);\n",
              "  }\n",
              "\n",
              "  // All done.\n",
              "  yield {\n",
              "    response: {\n",
              "      action: 'complete',\n",
              "    }\n",
              "  };\n",
              "}\n",
              "\n",
              "scope.google = scope.google || {};\n",
              "scope.google.colab = scope.google.colab || {};\n",
              "scope.google.colab._files = {\n",
              "  _uploadFiles,\n",
              "  _uploadFilesContinue,\n",
              "};\n",
              "})(self);\n",
              "</script> "
            ]
          },
          "metadata": {}
        },
        {
          "output_type": "stream",
          "name": "stdout",
          "text": [
            "Saving PB_data.npy to PB_data (1).npy\n"
          ]
        }
      ],
      "source": [
        "from google.colab import files\n",
        "files.upload()\n",
        "data_npy_file = 'PB_data.npy'\n",
        "\n",
        "# Loading data from .npy file\n",
        "data = np.load(data_npy_file, allow_pickle=True)"
      ]
    },
    {
      "cell_type": "code",
      "source": [
        "data"
      ],
      "metadata": {
        "id": "Dseq4YO7U-X0",
        "colab": {
          "base_uri": "https://localhost:8080/"
        },
        "outputId": "d797704a-e4b8-45da-8d10-04da55f746ec"
      },
      "execution_count": 3,
      "outputs": [
        {
          "output_type": "execute_result",
          "data": {
            "text/plain": [
              "array({'f3': array([2850, 2790, 2640, ..., 3380, 2160, 2200], dtype=uint16), 'f2': array([2280, 2400, 2030, ..., 1140, 1850, 1830], dtype=uint16), 'f1': array([240, 280, 390, ..., 500, 740, 660], dtype=uint16), 'f0': array([160, 186, 203, ..., 334, 308, 328], dtype=uint16), 'phoneme_id': array([ 1,  1,  2, ...,  9, 10, 10], dtype=uint8)},\n",
              "      dtype=object)"
            ]
          },
          "metadata": {},
          "execution_count": 3
        }
      ]
    },
    {
      "cell_type": "markdown",
      "source": [
        "The dataset contains 4 vectors ($F0-F3$), containing the fundamental frequencies ($F0$, $F1$, $F2$ and $F3$) for each phoneme and another vector “phoneme\\_id” containing a number representing the id of the phoneme.\n",
        "\n",
        "In the exercises that follow, we will use only the dataset associated with formants $F1$ and $F2$.\n",
        "\n",
        "**Note**: Phonemes and Frequencies are two different things; phoneme_id is the ground truth class of each row while frequencies represent features of each data point. Please review the papers provided with the lab materials for more details."
      ],
      "metadata": {
        "id": "nwhkgMnfVJJf"
      }
    },
    {
      "cell_type": "code",
      "source": [
        "data = np.ndarray.tolist(data)\n",
        "# Array that contains the phoneme ID (1-10) of each sample\n",
        "phoneme_id = data['phoneme_id']\n",
        "\n",
        "# frequencies f1 and f2\n",
        "f1 = data['f1']\n",
        "f2 = data['f2']"
      ],
      "metadata": {
        "id": "YPmOjeP5ViH1"
      },
      "execution_count": 4,
      "outputs": []
    },
    {
      "cell_type": "code",
      "source": [
        "f1, f1.shape"
      ],
      "metadata": {
        "colab": {
          "base_uri": "https://localhost:8080/"
        },
        "id": "Ag6RC06p0v_Q",
        "outputId": "07939404-bb7e-47e2-837c-d91f5dc35885"
      },
      "execution_count": 6,
      "outputs": [
        {
          "output_type": "execute_result",
          "data": {
            "text/plain": [
              "(array([240, 280, 390, ..., 500, 740, 660], dtype=uint16), (1520,))"
            ]
          },
          "metadata": {},
          "execution_count": 6
        }
      ]
    },
    {
      "cell_type": "code",
      "source": [
        "f2, f2.shape"
      ],
      "metadata": {
        "colab": {
          "base_uri": "https://localhost:8080/"
        },
        "id": "1VTRPh7500u5",
        "outputId": "2d68dea3-df3a-47e9-f1a0-ea7f730df94d"
      },
      "execution_count": 7,
      "outputs": [
        {
          "output_type": "execute_result",
          "data": {
            "text/plain": [
              "(array([2280, 2400, 2030, ..., 1140, 1850, 1830], dtype=uint16), (1520,))"
            ]
          },
          "metadata": {},
          "execution_count": 7
        }
      ]
    },
    {
      "cell_type": "code",
      "source": [
        "phoneme_id, phoneme_id.shape"
      ],
      "metadata": {
        "colab": {
          "base_uri": "https://localhost:8080/"
        },
        "id": "EMad2C9q03M0",
        "outputId": "021f51c3-cbbe-4cb9-cd74-65bb31db450f"
      },
      "execution_count": 8,
      "outputs": [
        {
          "output_type": "execute_result",
          "data": {
            "text/plain": [
              "(array([ 1,  1,  2, ...,  9, 10, 10], dtype=uint8), (1520,))"
            ]
          },
          "metadata": {},
          "execution_count": 8
        }
      ]
    },
    {
      "cell_type": "markdown",
      "source": [
        "### <font color=\"maroon\"> Q1. Produce a plot of $F1$ against $F2$. (You should be able to spot some clusters already in this scatter plot.). Comment on the figure and the visible clusters [2 marks]</font>"
      ],
      "metadata": {
        "id": "68cJhaVP1G4l"
      }
    },
    {
      "cell_type": "code",
      "source": [
        "### your code here\n",
        "\n",
        "\n",
        "plt.scatter(f1, f2)\n",
        "plt.xlabel(\"f1\")\n",
        "plt.ylabel(\"f2\")"
      ],
      "metadata": {
        "id": "aUabt7iEWLkn",
        "colab": {
          "base_uri": "https://localhost:8080/",
          "height": 466
        },
        "outputId": "3973358c-8d7f-4cea-b5ed-9e6e7071a027"
      },
      "execution_count": 11,
      "outputs": [
        {
          "output_type": "execute_result",
          "data": {
            "text/plain": [
              "Text(0, 0.5, 'f2')"
            ]
          },
          "metadata": {},
          "execution_count": 11
        },
        {
          "output_type": "display_data",
          "data": {
            "text/plain": [
              "<Figure size 640x480 with 1 Axes>"
            ],
            "image/png": "[encoded data removed]"
          },
          "metadata": {}
        }
      ]
    },
    {
      "cell_type": "markdown",
      "source": [
        "# 1. MoG Using the EM algorithm\n",
        "\n",
        "Recall the following definition of a Mixture of Gaussians. Assuming our observed random vector is $\\mathbf{x}\\in\\mathbb{R}^D$, a MoG models $p(\\mathbf{x})$ as a sum of $K$-many weighted Gaussians. More specifically:\n",
        "\n",
        "\n",
        "\\begin{equation}\n",
        " p(\\mathbf{x}) = \\sum_{k=1}^K \\frac{p(c_{k})}{(2\\pi)^{D/2} \\mathrm{det}\\left(\\boldsymbol\\Sigma_k\\right)^{1/2}}\n",
        " % \\exp(-\\frac{1}{2}(x-\\mu)^T \\sum_{k}^{-1}(x-\\mu))\n",
        " \\exp\\left(-\\frac{1}{2}(\\mathbf{x}-\\boldsymbol\\mu_k)^\\top {\\boldsymbol\\Sigma_k}^{-1}(\\mathbf{x}-\\boldsymbol\\mu_k)\\right),\n",
        "\\end{equation}\n",
        "where:\n",
        "* $\\boldsymbol\\mu_k\\in\\mathbb{R}^{D}$\n",
        "* $\\boldsymbol\\Sigma_{k}\\in\\mathbb{R}^{D\\times D}$\n",
        "* $p(c_{k})=\\pi_k\\in\\mathbb{R}$\n",
        "\n",
        "denote the $k$-th gaussian component's **mean vector**, **covariance matrix**, and **mixture coefficients** respectively. The $K$-many gaussian components' model parameters are referred to collectively as $\\theta = \\{\\boldsymbol\\mu_k,\\boldsymbol\\Sigma_{k},\\pi_k\\}_{k=1}^K$.\n",
        "\n",
        "## EM Algorithm\n",
        "For the E step we softly assign each datum to the closest centroid (using the current iteration's fixed model parameters) as in the K means example.\n",
        "\n",
        "For the M step we update the model parameters $\\theta$ to maximize the weighted log-likelihood.\n",
        "At a high level, for each centroid k we:\n",
        "* Update the mean vectors\n",
        "* Update the covariance matrices (We will fit Gaussians with diagonal covariance matrices)\n",
        "* Set the mixture coefficients as the mean probability of a sample being generated by the k-th gaussian component"
      ],
      "metadata": {
        "id": "4Dz_5r1KI4mp"
      }
    },
    {
      "cell_type": "markdown",
      "source": [
        "Read the code below and understand what it is calculating"
      ],
      "metadata": {
        "id": "FS1ea5HoWNTL"
      }
    },
    {
      "cell_type": "code",
      "source": [
        "def get_predictions(mu, s, p, X):\n",
        "\t\"\"\"\n",
        "\t\t:param mu\t\t\t: means of GMM components\n",
        "\t\t:param s\t\t\t: covariances of GMM components\n",
        "\t\t:param p \t\t\t: weights of GMM components\n",
        "\t\t:param X\t\t\t: 2D array of our dataset\n",
        "\t\"\"\"\n",
        "\n",
        "\t# get number of GMM components\n",
        "\tk = s.shape[0]\n",
        "\t# get number of data samples\n",
        "\tN = X.shape[0]\n",
        "\t# get dimensionality of our dataset\n",
        "\tD = X.shape[1]\n",
        "\n",
        "\tZ = np.zeros((N, k))\n",
        "\tfor i in range(k):\n",
        "\t\tmu_i = mu[i, :]\n",
        "\t\tmu_i = np.expand_dims(mu_i, axis=1)\n",
        "\t\tmu_i_repeated = np.repeat(mu_i, N, axis=1)\n",
        "\t\tX_minus_mu = X - mu_i_repeated.transpose()\n",
        "\t\tinverse_s = scipy.linalg.pinv(s[i])\n",
        "\t\tinverse_s = np.squeeze(inverse_s)\n",
        "\t\ts_i_det = scipy.linalg.det(s[i])\n",
        "\t\tx_s_x = np.matmul(X_minus_mu, inverse_s)*X_minus_mu\n",
        "\t\tZ[:, i] = p[i]*(1/np.power(((2*np.pi)**D) * np.abs(s_i_det), 0.5)) * np.exp(-0.5*np.sum(x_s_x, axis=1))\n",
        "\treturn Z\n"
      ],
      "metadata": {
        "id": "1vNV5ji1WhZJ"
      },
      "execution_count": null,
      "outputs": []
    },
    {
      "cell_type": "markdown",
      "source": [
        "### Helper functions"
      ],
      "metadata": {
        "id": "2PebY0ALYbI7"
      }
    },
    {
      "cell_type": "code",
      "source": [
        "def plot_gaussians(ax, s, mu, X, title_string):\n",
        "    \"\"\"\n",
        "        :param X            : 2D array of our dataset\n",
        "        :param y            : 1D array of the groundtruth labels of the dataset\n",
        "        :param ax          : existing subplot, to draw on it\n",
        "    \"\"\"\n",
        "    ax.clear()\n",
        "    if X.shape[1] == 2:\n",
        "        # set label of horizontal axis\n",
        "        ax.set_xlabel('f1')\n",
        "        # set label of vertical axis\n",
        "        ax.set_ylabel('f2')\n",
        "        # scatter the points, with red color\n",
        "        ax.scatter(X[:,0], X[:,1], c='black', marker='.', label=title_string)\n",
        "\n",
        "    k = s.shape[0]\n",
        "    color_list = ['r', 'g', 'b', 'c', 'm', 'y']\n",
        "    N_sides = 11\n",
        "\n",
        "    # Iterate over all gaussians\n",
        "    for k_cnt in range(k):\n",
        "\n",
        "        # pick the covariance matrix and mean values of each gaussian\n",
        "        s_k = s[k_cnt]\n",
        "        mu_k = mu[k_cnt]\n",
        "\n",
        "        if s_k.shape[0]==2:\n",
        "            # dataset with 2 features\n",
        "            side_range = np.arange(0, N_sides, 1)\n",
        "            theta = side_range/(N_sides-1)*2*np.pi\n",
        "            matrix = np.array([np.cos(theta), np.sin(theta)])\n",
        "            mu_k = np.expand_dims(mu_k, axis=1)\n",
        "            mu_repeated = np.repeat(mu_k, N_sides, axis=1)\n",
        "            epoints = np.matmul(scipy.linalg.sqrtm(s_k), matrix) + mu_repeated\n",
        "            plt.plot(epoints[0,:], epoints[1,:], color=color_list[k_cnt], linewidth=2)\n",
        "            plt.scatter(mu_k[0], mu_k[1], color=color_list[k_cnt], marker='o', linewidth=2)\n",
        "        elif s_k.shape[0]==3:\n",
        "            # dataset with 3 features\n",
        "            side_range = np.arange(0, N_sides, 1)\n",
        "            theta = side_range/(N_sides-1)*np.pi\n",
        "            phi = side_range/(N_sides-1)*2*np.pi\n",
        "            sin_theta = np.expand_dims(np.sin(theta), axis=1)\n",
        "            cos_theta = np.expand_dims(np.cos(theta), axis=1)\n",
        "            sin_phi = np.expand_dims(np.sin(phi), axis=1)\n",
        "            cos_phi = np.expand_dims(np.cos(phi), axis=1)\n",
        "            sx = np.matmul(sin_theta, cos_phi.transpose())\n",
        "            sy = np.matmul(sin_theta, sin_phi.transpose())\n",
        "            sz = np.matmul(cos_theta, np.ones((1, N_sides)))\n",
        "            svect = np.array([sx.reshape((N_sides*N_sides)), sy.reshape((N_sides*N_sides)), sz.reshape((N_sides*N_sides))])\n",
        "\n",
        "            mu_k = np.expand_dims(mu_k, axis=1)\n",
        "            mu_repeated = np.repeat(mu_k, N_sides*N_sides, axis=1)\n",
        "            epoints = np.matmul(scipy.linalg.sqrtm(s_k), svect) + mu_repeated\n",
        "\n",
        "            ex = epoints[0]\n",
        "            ey = epoints[1]\n",
        "            ez = epoints[2]\n",
        "\n",
        "            ax.plot3D(epoints[0,:], epoints[1,:], epoints[2,:], color=color_list[k_cnt])\n",
        "            ax.plot3D(ex, ey, ez, color=color_list[k_cnt])\n",
        "        else:\n",
        "            print('Each dataset sample should have either 2 or 3 features. Not plotting this one.')\n",
        "    ax.legend()\n",
        "    display.clear_output(wait=True)\n",
        "    display.display(plt.gcf())\n",
        "\n",
        "def plot_data_3D(X, title_string, ax):\n",
        "    \"\"\"\n",
        "        :param X            : 2D array of our dataset\n",
        "        :param y            : 1D array of the groundtruth labels of the dataset\n",
        "        :param ax          : existing subplot, to draw on it\n",
        "    \"\"\"\n",
        "    # clear subplot from previous (if any) drawn stuff\n",
        "    ax.clear()\n",
        "    # set label of x axis\n",
        "    ax.set_xlabel('f1')\n",
        "    # set label of y axis\n",
        "    ax.set_ylabel('f2')\n",
        "    # set label of z axis\n",
        "    ax.set_zlabel('f1 + f2')\n",
        "    # scatter the points, with red color\n",
        "    ax.scatter3D(X[:,0], X[:,1], X[:,2], c='black', marker='.', label=title_string)\n",
        "    # add legend to the subplot\n",
        "    ax.legend()\n",
        "\n",
        "\n",
        "def save_model(mu, s, p):\n",
        "  GMM_parameters = {}\n",
        "  GMM_parameters['mu'] = mu\n",
        "  GMM_parameters['s'] = s\n",
        "  GMM_parameters['p'] = p\n",
        "  if not os.path.isdir('data/'):\n",
        "    os.mkdir('data/')\n",
        "  npy_filename = 'data/GMM_params_phoneme_{:02}_k_{:02}.npy'.format(p_id, k)\n",
        "  np.save(npy_filename, GMM_parameters)"
      ],
      "metadata": {
        "id": "AfM20ivYYe4B"
      },
      "execution_count": null,
      "outputs": []
    },
    {
      "cell_type": "markdown",
      "source": [
        "## Train MoG\n",
        "\n",
        "Read the following blocks of code and understand what it does."
      ],
      "metadata": {
        "id": "y9U6wRo8X36_"
      }
    },
    {
      "cell_type": "code",
      "source": [
        "k = 3\n",
        "# id of the phoneme that will be used (e.g. 1, or 2)\n",
        "p_id = 1\n",
        "X_full = np.zeros((len(f1), 2))\n",
        "X_full[:,0] = f1.copy()\n",
        "X_full[:,1] = f2.copy()\n",
        "X_full = X_full.astype(np.float32)\n",
        "\n",
        "X = X_full[phoneme_id==p_id,:]"
      ],
      "metadata": {
        "id": "nXZYGJXUW8pk"
      },
      "execution_count": null,
      "outputs": []
    },
    {
      "cell_type": "code",
      "source": [
        "# get number of samples\n",
        "N = X.shape[0]\n",
        "# get dimensionality of our dataset\n",
        "D = X.shape[1]\n",
        "# common practice : GMM weights initially set as 1/k\n",
        "p = np.ones((k))/k\n",
        "# GMM means are picked randomly from data samples\n",
        "random_indices = np.floor(N*np.random.rand((k)))\n",
        "random_indices = random_indices.astype(int)\n",
        "mu = X[random_indices,:] # shape kxD\n",
        "# covariance matrices\n",
        "s = np.zeros((k,D,D)) # shape kxDxD\n",
        "# number of iterations for the EM algorithm\n",
        "n_iter = 100\n",
        "\n",
        "# initialize covariances\n",
        "for i in range(k):\n",
        "    cov_matrix = np.cov(X.transpose())\n",
        "    # initially set to fraction of data covariance\n",
        "    s[i,:,:] = cov_matrix/k\n",
        "\n",
        "# Initialize array Z that will get the predictions of each Gaussian on each sample\n",
        "Z = np.zeros((N,k)) # shape Nxk\n",
        "\n",
        "###############################\n",
        "# run Expectation Maximization algorithm for n_iter iterations\n",
        "n_iter = 100\n",
        "for t in range(n_iter):\n",
        "    print('Iteration {:03}/{:03}'.format(t+1, n_iter))\n",
        "\n",
        "    # Do the E-step\n",
        "    Z = get_predictions(mu, s, p, X)\n",
        "    Z = normalize(Z, axis=1, norm='l1')\n",
        "\n",
        "    # Do the M-step:\n",
        "    for i in range(k):\n",
        "        mu[i,:] = np.matmul(X.transpose(),Z[:,i]) / np.sum(Z[:,i])\n",
        "\n",
        "        ###################################################\n",
        "        # We will fit Gaussians with diagonal covariance matrices:\n",
        "        mu_i = mu[i,:]\n",
        "        mu_i = np.expand_dims(mu_i, axis=1)\n",
        "        mu_i_repeated = np.repeat(mu_i, N, axis=1)\n",
        "        coef_1 = (X.transpose() - mu_i_repeated)**2\n",
        "        coef_2 = Z[:,i]/np.sum(Z[:,i])\n",
        "        coef_2 = np.expand_dims(coef_2, axis=1)\n",
        "        res_1 = np.squeeze( np.matmul(coef_1, coef_2) )\n",
        "        s[i,:,:] = np.diag(res_1)\n",
        "\n",
        "        p[i] = np.mean(Z[:,i])\n",
        "\n",
        "    fig, ax1 = plt.subplots()\n",
        "    plot_gaussians(ax1, 2*s, mu, X, 'Phoneme {}'.format(p_id))\n",
        "print('\\nFinished.\\n')\n",
        "print(mu, s)\n",
        "save_model(mu, s, p)"
      ],
      "metadata": {
        "id": "1sJtyc3YXVC5"
      },
      "execution_count": null,
      "outputs": []
    },
    {
      "cell_type": "markdown",
      "source": [
        "### <font color=\"maroon\"> Q2. Run the code multiple times for $K=3$, what do you observe? Use figures and the printed MoG parameters to support your arguments [2 mark] </font>\n",
        "###  Q3. Repeat the training for phoneme_id = 2  and save the parameters [1 mark]\n",
        "### Q4. Repeat training for $K=6$ for phoneme_id =1 and phoneme_id=2 and save the model parameters [1 mark]\n",
        "\n",
        "Save your MoG model: this should comprise the variables mu, s and p. Include the all the saved model parameters in the submission .zip folder."
      ],
      "metadata": {
        "id": "orPA2rOPZg2O"
      }
    },
    {
      "cell_type": "code",
      "source": [
        "### your code here"
      ],
      "metadata": {
        "id": "cVrJt4Uibldp"
      },
      "execution_count": null,
      "outputs": []
    },
    {
      "cell_type": "markdown",
      "source": [
        "### <font color=\"maroon\"> Q5. Use the 2 MoGs ($K=3$) learnt in tasks 2 & 3 to build a classifier to discriminate between phonemes 1 and 2, and explain the process in the report [4 marks] </font>\n",
        "\n",
        "Classify using the Maximum Likelihood (ML) criterion and calculate the miss-classification error. Remember that a classification under the ML compares $p(\\mathbf{x};\\boldsymbol\\theta_{1})$, where $\\boldsymbol\\theta_{1}$ are the parameters of the MoG learnt for the first phoneme, with $p(\\mathbf{x};\\boldsymbol\\theta_{2})$, where $\\boldsymbol\\theta_{2}$  are the parameters of the MoG learnt for the second phoneme."
      ],
      "metadata": {
        "id": "Y84MznI-cC21"
      }
    },
    {
      "cell_type": "code",
      "source": [
        "k = 3\n",
        "inds_1 = np.where(phoneme_id==1)\n",
        "inds_2 = np.where(phoneme_id==2)\n",
        "inds_1 = inds_1[0]\n",
        "inds_2 = inds_2[0]\n",
        "inds_1_and_2 = np.concatenate((inds_1, inds_2), axis=0)\n",
        "\n",
        "X = X_full[inds_1_and_2,:]\n",
        "\n",
        "N = X.shape[0]\n",
        "D = X.shape[1]\n",
        "\n",
        "# Get predictions on both phonemes 1 and 2, from a GMM with k components, pretrained on phoneme 1\n",
        "p_id = 1\n",
        "npy_filename = 'data/GMM_params_phoneme_{:02}_k_{:02}.npy'.format(p_id, k)\n",
        "if os.path.isfile(npy_filename):\n",
        "    GMM_parameters_phoneme_1 = np.load(npy_filename, allow_pickle=True)\n",
        "    GMM_parameters_phoneme_1 = np.ndarray.tolist(GMM_parameters_phoneme_1)\n",
        "else:\n",
        "    raise('File {} does not exist.'.format(npy_filename))\n",
        "mu = GMM_parameters_phoneme_1['mu']\n",
        "s = GMM_parameters_phoneme_1['s']\n",
        "p = GMM_parameters_phoneme_1['p']\n",
        "\n",
        "# Initialize array Z_phoneme_1 that will get the predictions of each Gaussian on each sample\n",
        "Z_phoneme_1 = np.zeros((N,k)) # shape Nxk\n",
        "\n",
        "# get predictions\n",
        "###your code here\n",
        "\n",
        "\n",
        "# Get predictions on both phonemes 1 and 2, from a GMM with k components, pretrained on phoneme 2\n",
        "p_id = 2\n",
        "###your code here\n",
        "\n",
        "# classify each point using Maximum Likelihood\n",
        "\n",
        "### your code here\n",
        "\n",
        "# calculate accuracy\n",
        "### your code here"
      ],
      "metadata": {
        "id": "yoBH4vLDc0Qc"
      },
      "execution_count": null,
      "outputs": []
    },
    {
      "cell_type": "markdown",
      "source": [
        "### <font color=\"maroon\"> Q6. Repeat for $K=6$ and compare the results in terms of accuracy. [2 mark] </font>\n"
      ],
      "metadata": {
        "id": "KMxM6mgLfXgs"
      }
    },
    {
      "cell_type": "markdown",
      "source": [
        "### <font color=\"maroon\"> Q7. Display a \"classification matrix\" assigning labels to a grid of all combinations of the $F1$ and $F2$ features for the $K=3$ classifiers from above. Next, repeat this step for $K=6$ and compare the two. [3 marks] </font>\n",
        "\n",
        "In particular,\n",
        "create a custom uniform grid of points that spans all possible intermediate combinations of $F1$ and $F2$ features, using the features' minimum and maximum values as the limits. (Hint: check documentation for [np.meshgrid](https://numpy.org/doc/stable/reference/generated/numpy.meshgrid.html) and [np.linspace](https://numpy.org/doc/stable/reference/generated/numpy.linspace.html) ). Classify each point in the grid using one of your classifiers. That is, create a classification matrix, $\\mathbf{M}$, whose elements are either 0 or 1. $M(i,j)$ is 0 if the point at location $(i,j)$ on the custom grid is classified as belonging to phoneme 1, and is 1 otherwise.\n",
        "\n",
        "### Hint: building the custom grid:\n",
        "Assuming our data were the orange points below, the custom grid would look something like the following (evenly spaced points spanning the minimum to maximum values of both features):\n",
        "\n",
        "![](https://i.imgur.com/khfYx42.png)\n",
        "\n"
      ],
      "metadata": {
        "id": "arnPiLFMculy"
      }
    },
    {
      "cell_type": "code",
      "source": [
        "k = 3\n",
        "\n",
        "X = X_full[inds_1_and_2,:]\n",
        "\n",
        "N = X.shape[0]\n",
        "D = X.shape[1]\n",
        "\n",
        "min_f1 = int(np.min(X[:,0]))\n",
        "max_f1 = int(np.max(X[:,0]))\n",
        "min_f2 = int(np.min(X[:,1]))\n",
        "max_f2 = int(np.max(X[:,1]))\n",
        "N_f1 = max_f1 - min_f1\n",
        "N_f2 = max_f2 - min_f2\n",
        "print('f1 range: {}-{} | {} points'.format(min_f1, max_f1, N_f1))\n",
        "print('f2 range: {}-{} | {} points'.format(min_f2, max_f2, N_f2))\n",
        "\n",
        "#########################################\n",
        "# Write your code here\n",
        "\n",
        "# Create a custom grid of shape N_f1 x N_f2\n",
        "# The grid will span all the values of (f1, f2) pairs, between [min_f1, max_f1] on f1 axis, and between [min_f2, max_f2] on f2 axis\n",
        "# Then, classify each point [i.e., each (f1, f2) pair] of that grid, to either phoneme 1, or phoneme 2, using the two trained GMMs\n",
        "# Do predictions, using GMM trained on phoneme 1, on custom grid\n",
        "# Do predictions, using GMM trained on phoneme 2, on custom grid\n",
        "# Compare these predictions, to classify each point of the grid\n",
        "# Store these prediction in a 2D numpy array named \"M\", of shape N_f2 x N_f1 (the first dimension is f2 so that we keep f2 in the vertical axis of the plot)\n",
        "# M should contain \"0.0\" in the points that belong to phoneme 1 and \"1.0\" in the points that belong to phoneme 2\n",
        "########################################/\n",
        "\n",
        "################################################\n",
        "# Visualize predictions on custom grid\n",
        "\n",
        "# Create a figure\n",
        "#fig = plt.figure()\n",
        "fig, ax = plt.subplots()\n",
        "\n",
        "# use aspect='auto' (default is 'equal'), to force the plotted image to be square, when dimensions are unequal\n",
        "plt.imshow(M, aspect='auto')\n",
        "\n",
        "# set label of x axis\n",
        "ax.set_xlabel('f1')\n",
        "# set label of y axis\n",
        "ax.set_ylabel('f2')\n",
        "\n",
        "# set limits of axes\n",
        "plt.xlim((0, N_f1))\n",
        "plt.ylim((0, N_f2))\n",
        "\n",
        "# set range and strings of ticks on axes\n",
        "x_range = np.arange(0, N_f1, step=50)\n",
        "x_strings = [str(x+min_f1) for x in x_range]\n",
        "plt.xticks(x_range, x_strings)\n",
        "y_range = np.arange(0, N_f2, step=200)\n",
        "y_strings = [str(y+min_f2) for y in y_range]\n",
        "plt.yticks(y_range, y_strings)\n",
        "\n",
        "# set title of figure\n",
        "title_string = 'Predictions on custom grid'\n",
        "plt.title(title_string)\n",
        "\n",
        "# add a colorbar\n",
        "plt.colorbar()\n",
        "\n",
        "N_samples = int(X.shape[0]/2)\n",
        "plt.scatter(X[:N_samples, 0] - min_f1, X[:N_samples, 1] - min_f2, marker='.', color='red', label='Phoneme 1')\n",
        "plt.scatter(X[N_samples:, 0] - min_f1, X[N_samples:, 1] - min_f2, marker='.', color='green', label='Phoneme 2')\n",
        "\n",
        "# add legend to the subplot\n",
        "plt.legend()\n",
        "plt.show()"
      ],
      "metadata": {
        "id": "BoyGlTdvfsS8"
      },
      "execution_count": null,
      "outputs": []
    },
    {
      "cell_type": "markdown",
      "source": [
        "Create a new dataset that will contain 3 columns, as follows:\n",
        "\\begin{equation}\n",
        "    X = [F1, F2, F1+F2]\n",
        "\\end{equation}\n",
        "\n",
        "### <font color=\"maroon\"> Q8. Try to fit a MoG model to the new data. What is the problem that you observe? Explain why it occurs [2 marks]"
      ],
      "metadata": {
        "id": "UraAKMXuhiwR"
      }
    },
    {
      "cell_type": "code",
      "source": [
        "p_id = 1 # id of the phoneme that will be used (e.g. 1, or 2)\n",
        "\n",
        "k = 3 # number of GMM components\n",
        "X = np.zeros((len(f1), 3))\n",
        "#########################################\n",
        "# Write your code here\n",
        "# The shape of X is be two-dimensional. Each row will represent a sample of the dataset, and each column will represent a feature (e.g. f1 or f2 or f1+f2)\n",
        "# Store f1 in the first column of X, f2 in the second column of X and f1+f2 in the third column of X\n",
        "# Filter X to, contain only samples that belong to the chosen phoneme.\n",
        "\n",
        "\n",
        "\n",
        "\n",
        "\n",
        "\n",
        "\n",
        "#########################################\n",
        "fig = plt.figure()\n",
        "ax1 = plt.axes(projection='3d')\n",
        "title_string = 'Phoneme {}'.format(p_id)\n",
        "plot_data_3D(X=X, title_string=title_string, ax=ax1)\n",
        "\n",
        "N, D = X.shape\n",
        "p = np.ones((k))/k\n",
        "random_indices = np.floor(N*np.random.rand((k)))\n",
        "random_indices = random_indices.astype(int)\n",
        "mu = X[random_indices,:] # shape kxD\n",
        "s = np.zeros((k,D,D)) # shape kxDxD\n",
        "n_iter = 150\n",
        "\n",
        "# initialize covariances\n",
        "for i in range(k):\n",
        "    cov_matrix = np.cov(X.transpose())\n",
        "    s[i,:,:] = cov_matrix/k\n",
        "\n",
        "Z = np.zeros((N,k)) # shape Nxk\n",
        "\n",
        "###############################\n",
        "# run Expectation Maximization algorithm for n_iter iterations\n",
        "for t in range(n_iter):\n",
        "    #print('****************************************')\n",
        "    print('Iteration {:03}/{:03}'.format(t+1, n_iter))\n",
        "\n",
        "    # Do the E-step\n",
        "    Z = get_predictions(mu, s, p, X)\n",
        "    Z = normalize(Z, axis=1, norm='l1')\n",
        "    # Do the M-step:\n",
        "    for i in range(k):\n",
        "        mu[i,:] = np.matmul(X.transpose(), Z[:,i])/np.sum(Z[:,i])\n",
        "\n",
        "        ###################################################\n",
        "        # We will fit Gaussians with full covariance matrices:\n",
        "        mu_i = mu[i,:]\n",
        "        mu_i = np.expand_dims(mu_i, axis=1)\n",
        "        mu_i_repeated = np.repeat(mu_i, N, axis=1)\n",
        "\n",
        "        term_1 = X.transpose() - mu_i_repeated\n",
        "        term_2 = np.repeat(np.expand_dims(Z[:,i], axis=1), D, axis=1) * term_1.transpose()\n",
        "        s[i,:,:] = np.matmul(term_1, term_2)/np.sum(Z[:,i])\n",
        "        p[i] = np.mean(Z[:,i])\n",
        "\n",
        "plot_gaussians(ax1, 2*s, mu, X, 'Phoneme {}'.format(p_id))\n",
        "plt.show()"
      ],
      "metadata": {
        "id": "g7q1EEkJhwmu"
      },
      "execution_count": null,
      "outputs": []
    },
    {
      "cell_type": "markdown",
      "source": [
        "### <font color=\"maroon\"> Q9. Suggest ways of overcoming the singularity problem and implement one of them. Show any training outputs in the report and discuss. [3 marks] </font>"
      ],
      "metadata": {
        "id": "-RcoOpPgiKM2"
      }
    },
    {
      "cell_type": "code",
      "source": [
        "#########################################\n",
        "# Write your code here"
      ],
      "metadata": {
        "id": "pkGX_-reiVQ2"
      },
      "execution_count": null,
      "outputs": []
    }
  ]
}